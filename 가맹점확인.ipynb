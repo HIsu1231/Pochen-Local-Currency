{
  "nbformat": 4,
  "nbformat_minor": 0,
  "metadata": {
    "colab": {
      "name": "가맹점확인.ipynb",
      "provenance": [],
      "collapsed_sections": [],
      "mount_file_id": "1-BTB8dkNq6PX7ManvcbCrQBEGacvFEAU",
      "authorship_tag": "ABX9TyOOncT4K6bXFuxyc3UlS2jk",
      "include_colab_link": true
    },
    "kernelspec": {
      "name": "python3",
      "display_name": "Python 3"
    },
    "language_info": {
      "name": "python"
    }
  },
  "cells": [
    {
      "cell_type": "markdown",
      "metadata": {
        "id": "view-in-github",
        "colab_type": "text"
      },
      "source": [
        "<a href=\"https://colab.research.google.com/github/HIsu1231/Pochen_-Local-Currency/blob/main/%EA%B0%80%EB%A7%B9%EC%A0%90%ED%99%95%EC%9D%B8.ipynb\" target=\"_parent\"><img src=\"https://colab.research.google.com/assets/colab-badge.svg\" alt=\"Open In Colab\"/></a>"
      ]
    },
    {
      "cell_type": "code",
      "execution_count": null,
      "metadata": {
        "id": "oAfDqJgfp7Dw"
      },
      "outputs": [],
      "source": [
        "import pandas as pd"
      ]
    },
    {
      "cell_type": "code",
      "source": [
        "data = pd.read_excel('/content/drive/MyDrive/경기지역화폐_가맹점리스트_1007_포천 .xlsx')"
      ],
      "metadata": {
        "id": "w-qZkiV7uQ2G"
      },
      "execution_count": null,
      "outputs": []
    },
    {
      "cell_type": "code",
      "source": [
        "data"
      ],
      "metadata": {
        "colab": {
          "base_uri": "https://localhost:8080/",
          "height": 1000
        },
        "id": "2R-bdoMmvB8w",
        "outputId": "89767f8a-29bd-44ae-dc4d-38f8ec08e8ca"
      },
      "execution_count": null,
      "outputs": [
        {
          "output_type": "execute_result",
          "data": {
            "text/html": [
              "\n",
              "  <div id=\"df-d6f75142-d739-4f1f-a976-261855463b97\">\n",
              "    <div class=\"colab-df-container\">\n",
              "      <div>\n",
              "<style scoped>\n",
              "    .dataframe tbody tr th:only-of-type {\n",
              "        vertical-align: middle;\n",
              "    }\n",
              "\n",
              "    .dataframe tbody tr th {\n",
              "        vertical-align: top;\n",
              "    }\n",
              "\n",
              "    .dataframe thead th {\n",
              "        text-align: right;\n",
              "    }\n",
              "</style>\n",
              "<table border=\"1\" class=\"dataframe\">\n",
              "  <thead>\n",
              "    <tr style=\"text-align: right;\">\n",
              "      <th></th>\n",
              "      <th>지자체</th>\n",
              "      <th>가맹점명</th>\n",
              "      <th>사업자번호</th>\n",
              "      <th>주소</th>\n",
              "      <th>행정구역</th>\n",
              "      <th>우편번호</th>\n",
              "      <th>전화번호</th>\n",
              "      <th>업종코드</th>\n",
              "      <th>업종명</th>\n",
              "      <th>가맹점번호</th>\n",
              "      <th>휴폐업여부</th>\n",
              "      <th>연매출 10억 이상 여부</th>\n",
              "      <th>등록사이트 등록일자</th>\n",
              "      <th>등록여부</th>\n",
              "      <th>한번이라도 결제 일어난 가맹점 여부</th>\n",
              "    </tr>\n",
              "  </thead>\n",
              "  <tbody>\n",
              "    <tr>\n",
              "      <th>0</th>\n",
              "      <td>포천</td>\n",
              "      <td>로또</td>\n",
              "      <td>6516300119</td>\n",
              "      <td>경기 포천시 소흘읍 죽엽산로196번길 4 ,1층</td>\n",
              "      <td>소흘읍</td>\n",
              "      <td>11181</td>\n",
              "      <td>031-542-2158</td>\n",
              "      <td>8399</td>\n",
              "      <td>기타음료식품</td>\n",
              "      <td>700008777</td>\n",
              "      <td>X</td>\n",
              "      <td>X</td>\n",
              "      <td>NaT</td>\n",
              "      <td>X</td>\n",
              "      <td>O</td>\n",
              "    </tr>\n",
              "    <tr>\n",
              "      <th>1</th>\n",
              "      <td>포천</td>\n",
              "      <td>글로벌모터스(GLOBAL-MOTORS)</td>\n",
              "      <td>3650200478</td>\n",
              "      <td>경기 포천시 소흘읍 호국로 15-18</td>\n",
              "      <td>소흘읍</td>\n",
              "      <td>11184</td>\n",
              "      <td>031-1522-0219</td>\n",
              "      <td>6110</td>\n",
              "      <td>자동차정비</td>\n",
              "      <td>700014422</td>\n",
              "      <td>X</td>\n",
              "      <td>X</td>\n",
              "      <td>NaT</td>\n",
              "      <td>X</td>\n",
              "      <td>X</td>\n",
              "    </tr>\n",
              "    <tr>\n",
              "      <th>2</th>\n",
              "      <td>포천</td>\n",
              "      <td>강나루</td>\n",
              "      <td>8754000147</td>\n",
              "      <td>경기 포천시 이동면 포화로 51-10</td>\n",
              "      <td>이동면</td>\n",
              "      <td>11110</td>\n",
              "      <td>031-535-3914</td>\n",
              "      <td>8005</td>\n",
              "      <td>중국식</td>\n",
              "      <td>700023079</td>\n",
              "      <td>X</td>\n",
              "      <td>X</td>\n",
              "      <td>NaT</td>\n",
              "      <td>X</td>\n",
              "      <td>O</td>\n",
              "    </tr>\n",
              "    <tr>\n",
              "      <th>3</th>\n",
              "      <td>포천</td>\n",
              "      <td>Kaylie's coffee(케일리 커피)</td>\n",
              "      <td>2145000109</td>\n",
              "      <td>경기 포천시 신읍길 35-1 ,1층 (신읍동)</td>\n",
              "      <td>포천동</td>\n",
              "      <td>11147</td>\n",
              "      <td>031-531-1155</td>\n",
              "      <td>8006</td>\n",
              "      <td>서양음식</td>\n",
              "      <td>700029918</td>\n",
              "      <td>X</td>\n",
              "      <td>X</td>\n",
              "      <td>2020-10-07</td>\n",
              "      <td>O</td>\n",
              "      <td>O</td>\n",
              "    </tr>\n",
              "    <tr>\n",
              "      <th>4</th>\n",
              "      <td>포천</td>\n",
              "      <td>용광사.일동열쇠.이동열쇠</td>\n",
              "      <td>7571000371</td>\n",
              "      <td>경기 포천시 일동면 기산리 90-177번지</td>\n",
              "      <td>일동면</td>\n",
              "      <td>11117</td>\n",
              "      <td>031-532-3408</td>\n",
              "      <td>9006</td>\n",
              "      <td>목재 석재 철물</td>\n",
              "      <td>700041791</td>\n",
              "      <td>X</td>\n",
              "      <td>X</td>\n",
              "      <td>NaT</td>\n",
              "      <td>X</td>\n",
              "      <td>O</td>\n",
              "    </tr>\n",
              "    <tr>\n",
              "      <th>...</th>\n",
              "      <td>...</td>\n",
              "      <td>...</td>\n",
              "      <td>...</td>\n",
              "      <td>...</td>\n",
              "      <td>...</td>\n",
              "      <td>...</td>\n",
              "      <td>...</td>\n",
              "      <td>...</td>\n",
              "      <td>...</td>\n",
              "      <td>...</td>\n",
              "      <td>...</td>\n",
              "      <td>...</td>\n",
              "      <td>...</td>\n",
              "      <td>...</td>\n",
              "      <td>...</td>\n",
              "    </tr>\n",
              "    <tr>\n",
              "      <th>10536</th>\n",
              "      <td>포천</td>\n",
              "      <td>성원</td>\n",
              "      <td>7300400434</td>\n",
              "      <td>경기 포천시 소흘읍 솔모루로78번길 6</td>\n",
              "      <td>소흘읍</td>\n",
              "      <td>11174</td>\n",
              "      <td>031-542-2859</td>\n",
              "      <td>7111</td>\n",
              "      <td>미용재료</td>\n",
              "      <td>799311020</td>\n",
              "      <td>X</td>\n",
              "      <td>X</td>\n",
              "      <td>NaT</td>\n",
              "      <td>X</td>\n",
              "      <td>O</td>\n",
              "    </tr>\n",
              "    <tr>\n",
              "      <th>10537</th>\n",
              "      <td>포천</td>\n",
              "      <td>이공비빔국수</td>\n",
              "      <td>8471100370</td>\n",
              "      <td>경기 포천시 소흘읍 광릉수목원로 1170</td>\n",
              "      <td>소흘읍</td>\n",
              "      <td>11184</td>\n",
              "      <td>031-542-1158</td>\n",
              "      <td>8001</td>\n",
              "      <td>일반한식</td>\n",
              "      <td>799316863</td>\n",
              "      <td>X</td>\n",
              "      <td>X</td>\n",
              "      <td>2021-06-25</td>\n",
              "      <td>O</td>\n",
              "      <td>O</td>\n",
              "    </tr>\n",
              "    <tr>\n",
              "      <th>10538</th>\n",
              "      <td>포천</td>\n",
              "      <td>투투</td>\n",
              "      <td>3272300224</td>\n",
              "      <td>경기 포천시 영북면 운천로23번길 7-7</td>\n",
              "      <td>영북면</td>\n",
              "      <td>11106</td>\n",
              "      <td>031-532-0220</td>\n",
              "      <td>8001</td>\n",
              "      <td>일반한식</td>\n",
              "      <td>799324444</td>\n",
              "      <td>X</td>\n",
              "      <td>X</td>\n",
              "      <td>NaT</td>\n",
              "      <td>X</td>\n",
              "      <td>O</td>\n",
              "    </tr>\n",
              "    <tr>\n",
              "      <th>10539</th>\n",
              "      <td>포천</td>\n",
              "      <td>금성모타</td>\n",
              "      <td>5323700274</td>\n",
              "      <td>경기 포천시 신북면 중앙로207번길 4</td>\n",
              "      <td>신북면</td>\n",
              "      <td>11140</td>\n",
              "      <td>031-533-9715</td>\n",
              "      <td>9901</td>\n",
              "      <td>기계공구</td>\n",
              "      <td>799328022</td>\n",
              "      <td>X</td>\n",
              "      <td>X</td>\n",
              "      <td>NaT</td>\n",
              "      <td>X</td>\n",
              "      <td>O</td>\n",
              "    </tr>\n",
              "    <tr>\n",
              "      <th>10540</th>\n",
              "      <td>포천</td>\n",
              "      <td>영당구클럽</td>\n",
              "      <td>7272200295</td>\n",
              "      <td>경기 포천시 소흘읍 솔모루로3번길 13 ,2층</td>\n",
              "      <td>소흘읍</td>\n",
              "      <td>11180</td>\n",
              "      <td>031-541-8834</td>\n",
              "      <td>2121</td>\n",
              "      <td>당 구 장</td>\n",
              "      <td>799329078</td>\n",
              "      <td>X</td>\n",
              "      <td>X</td>\n",
              "      <td>2020-09-30</td>\n",
              "      <td>O</td>\n",
              "      <td>O</td>\n",
              "    </tr>\n",
              "  </tbody>\n",
              "</table>\n",
              "<p>10541 rows × 15 columns</p>\n",
              "</div>\n",
              "      <button class=\"colab-df-convert\" onclick=\"convertToInteractive('df-d6f75142-d739-4f1f-a976-261855463b97')\"\n",
              "              title=\"Convert this dataframe to an interactive table.\"\n",
              "              style=\"display:none;\">\n",
              "        \n",
              "  <svg xmlns=\"http://www.w3.org/2000/svg\" height=\"24px\"viewBox=\"0 0 24 24\"\n",
              "       width=\"24px\">\n",
              "    <path d=\"M0 0h24v24H0V0z\" fill=\"none\"/>\n",
              "    <path d=\"M18.56 5.44l.94 2.06.94-2.06 2.06-.94-2.06-.94-.94-2.06-.94 2.06-2.06.94zm-11 1L8.5 8.5l.94-2.06 2.06-.94-2.06-.94L8.5 2.5l-.94 2.06-2.06.94zm10 10l.94 2.06.94-2.06 2.06-.94-2.06-.94-.94-2.06-.94 2.06-2.06.94z\"/><path d=\"M17.41 7.96l-1.37-1.37c-.4-.4-.92-.59-1.43-.59-.52 0-1.04.2-1.43.59L10.3 9.45l-7.72 7.72c-.78.78-.78 2.05 0 2.83L4 21.41c.39.39.9.59 1.41.59.51 0 1.02-.2 1.41-.59l7.78-7.78 2.81-2.81c.8-.78.8-2.07 0-2.86zM5.41 20L4 18.59l7.72-7.72 1.47 1.35L5.41 20z\"/>\n",
              "  </svg>\n",
              "      </button>\n",
              "      \n",
              "  <style>\n",
              "    .colab-df-container {\n",
              "      display:flex;\n",
              "      flex-wrap:wrap;\n",
              "      gap: 12px;\n",
              "    }\n",
              "\n",
              "    .colab-df-convert {\n",
              "      background-color: #E8F0FE;\n",
              "      border: none;\n",
              "      border-radius: 50%;\n",
              "      cursor: pointer;\n",
              "      display: none;\n",
              "      fill: #1967D2;\n",
              "      height: 32px;\n",
              "      padding: 0 0 0 0;\n",
              "      width: 32px;\n",
              "    }\n",
              "\n",
              "    .colab-df-convert:hover {\n",
              "      background-color: #E2EBFA;\n",
              "      box-shadow: 0px 1px 2px rgba(60, 64, 67, 0.3), 0px 1px 3px 1px rgba(60, 64, 67, 0.15);\n",
              "      fill: #174EA6;\n",
              "    }\n",
              "\n",
              "    [theme=dark] .colab-df-convert {\n",
              "      background-color: #3B4455;\n",
              "      fill: #D2E3FC;\n",
              "    }\n",
              "\n",
              "    [theme=dark] .colab-df-convert:hover {\n",
              "      background-color: #434B5C;\n",
              "      box-shadow: 0px 1px 3px 1px rgba(0, 0, 0, 0.15);\n",
              "      filter: drop-shadow(0px 1px 2px rgba(0, 0, 0, 0.3));\n",
              "      fill: #FFFFFF;\n",
              "    }\n",
              "  </style>\n",
              "\n",
              "      <script>\n",
              "        const buttonEl =\n",
              "          document.querySelector('#df-d6f75142-d739-4f1f-a976-261855463b97 button.colab-df-convert');\n",
              "        buttonEl.style.display =\n",
              "          google.colab.kernel.accessAllowed ? 'block' : 'none';\n",
              "\n",
              "        async function convertToInteractive(key) {\n",
              "          const element = document.querySelector('#df-d6f75142-d739-4f1f-a976-261855463b97');\n",
              "          const dataTable =\n",
              "            await google.colab.kernel.invokeFunction('convertToInteractive',\n",
              "                                                     [key], {});\n",
              "          if (!dataTable) return;\n",
              "\n",
              "          const docLinkHtml = 'Like what you see? Visit the ' +\n",
              "            '<a target=\"_blank\" href=https://colab.research.google.com/notebooks/data_table.ipynb>data table notebook</a>'\n",
              "            + ' to learn more about interactive tables.';\n",
              "          element.innerHTML = '';\n",
              "          dataTable['output_type'] = 'display_data';\n",
              "          await google.colab.output.renderOutput(dataTable, element);\n",
              "          const docLink = document.createElement('div');\n",
              "          docLink.innerHTML = docLinkHtml;\n",
              "          element.appendChild(docLink);\n",
              "        }\n",
              "      </script>\n",
              "    </div>\n",
              "  </div>\n",
              "  "
            ],
            "text/plain": [
              "      지자체                     가맹점명  ...  등록여부 한번이라도 결제 일어난 가맹점 여부\n",
              "0      포천                       로또  ...     X                   O\n",
              "1      포천    글로벌모터스(GLOBAL-MOTORS)  ...     X                   X\n",
              "2      포천                      강나루  ...     X                   O\n",
              "3      포천  Kaylie's coffee(케일리 커피)  ...     O                   O\n",
              "4      포천            용광사.일동열쇠.이동열쇠  ...     X                   O\n",
              "...    ..                      ...  ...   ...                 ...\n",
              "10536  포천                       성원  ...     X                   O\n",
              "10537  포천                   이공비빔국수  ...     O                   O\n",
              "10538  포천                       투투  ...     X                   O\n",
              "10539  포천                     금성모타  ...     X                   O\n",
              "10540  포천                    영당구클럽  ...     O                   O\n",
              "\n",
              "[10541 rows x 15 columns]"
            ]
          },
          "metadata": {},
          "execution_count": 35
        }
      ]
    },
    {
      "cell_type": "code",
      "source": [
        "data['행정구역'].value_counts()"
      ],
      "metadata": {
        "colab": {
          "base_uri": "https://localhost:8080/"
        },
        "id": "IOjivpIXvGcI",
        "outputId": "6db16496-8cdf-4aab-8333-4ad5ffb30002"
      },
      "execution_count": null,
      "outputs": [
        {
          "output_type": "execute_result",
          "data": {
            "text/plain": [
              "소흘읍    3197\n",
              "포천동    1438\n",
              "선단동     878\n",
              "가산면     812\n",
              "일동면     752\n",
              "영북면     737\n",
              "내촌면     586\n",
              "신북면     580\n",
              "군내면     442\n",
              "이동면     391\n",
              "영중면     351\n",
              "관인면     143\n",
              "화현면     143\n",
              "창수면      91\n",
              "Name: 행정구역, dtype: int64"
            ]
          },
          "metadata": {},
          "execution_count": 5
        }
      ]
    },
    {
      "cell_type": "code",
      "source": [
        "print(data['업종명'].value_counts)"
      ],
      "metadata": {
        "colab": {
          "base_uri": "https://localhost:8080/"
        },
        "id": "6p-yTlexyzzI",
        "outputId": "13d0f2d4-155a-4946-d879-39cebb190aa1"
      },
      "execution_count": null,
      "outputs": [
        {
          "output_type": "stream",
          "name": "stdout",
          "text": [
            "<bound method IndexOpsMixin.value_counts of 0          기타음료식품\n",
            "1           자동차정비\n",
            "2             중국식\n",
            "3            서양음식\n",
            "4        목재 석재 철물\n",
            "           ...   \n",
            "10536        미용재료\n",
            "10537        일반한식\n",
            "10538        일반한식\n",
            "10539        기계공구\n",
            "10540       당 구 장\n",
            "Name: 업종명, Length: 10541, dtype: object>\n"
          ]
        }
      ]
    },
    {
      "cell_type": "code",
      "source": [
        "d1 = (data['업종명'] == '일반한식')"
      ],
      "metadata": {
        "id": "mIDWTy1ivK55"
      },
      "execution_count": null,
      "outputs": []
    },
    {
      "cell_type": "code",
      "source": [
        "t1 = data[d1]"
      ],
      "metadata": {
        "id": "qB1qxJOZx_2A"
      },
      "execution_count": null,
      "outputs": []
    },
    {
      "cell_type": "code",
      "source": [
        "t1['행정구역'].value_counts()"
      ],
      "metadata": {
        "colab": {
          "base_uri": "https://localhost:8080/"
        },
        "id": "SEnxVO9byAd1",
        "outputId": "b8660624-d276-4632-d451-1fdd4ef0f7d7"
      },
      "execution_count": null,
      "outputs": [
        {
          "output_type": "execute_result",
          "data": {
            "text/plain": [
              "소흘읍    532\n",
              "포천동    292\n",
              "영북면    203\n",
              "일동면    190\n",
              "선단동    163\n",
              "신북면    134\n",
              "이동면    125\n",
              "가산면    116\n",
              "내촌면    111\n",
              "영중면     89\n",
              "군내면     86\n",
              "화현면     42\n",
              "관인면     27\n",
              "창수면     25\n",
              "Name: 행정구역, dtype: int64"
            ]
          },
          "metadata": {},
          "execution_count": 15
        }
      ]
    },
    {
      "cell_type": "code",
      "source": [
        "d2 = (data['업종명'] == '편 의 점')"
      ],
      "metadata": {
        "id": "NeXdM02SylpV"
      },
      "execution_count": null,
      "outputs": []
    },
    {
      "cell_type": "code",
      "source": [
        "d2"
      ],
      "metadata": {
        "colab": {
          "base_uri": "https://localhost:8080/"
        },
        "id": "NWvgrvip0N4a",
        "outputId": "21458d11-0426-4b8e-fdc9-e48618e4727d"
      },
      "execution_count": null,
      "outputs": [
        {
          "output_type": "execute_result",
          "data": {
            "text/plain": [
              "0        False\n",
              "1        False\n",
              "2        False\n",
              "3        False\n",
              "4        False\n",
              "         ...  \n",
              "10536    False\n",
              "10537    False\n",
              "10538    False\n",
              "10539    False\n",
              "10540    False\n",
              "Name: 업종명, Length: 10541, dtype: bool"
            ]
          },
          "metadata": {},
          "execution_count": 37
        }
      ]
    },
    {
      "cell_type": "code",
      "source": [
        "t2 = data[d2]"
      ],
      "metadata": {
        "id": "d81OxyvSytgY"
      },
      "execution_count": null,
      "outputs": []
    },
    {
      "cell_type": "code",
      "source": [
        "t2['행정구역'].value_counts()"
      ],
      "metadata": {
        "colab": {
          "base_uri": "https://localhost:8080/"
        },
        "id": "EvM_84v5zGS3",
        "outputId": "f1a160c8-9798-42d4-e3f4-7af7678bc737"
      },
      "execution_count": null,
      "outputs": [
        {
          "output_type": "execute_result",
          "data": {
            "text/plain": [
              "소흘읍    74\n",
              "선단동    38\n",
              "포천동    34\n",
              "가산면    32\n",
              "영북면    28\n",
              "내촌면    24\n",
              "신북면    23\n",
              "군내면    18\n",
              "일동면    15\n",
              "영중면    14\n",
              "이동면    12\n",
              "화현면     6\n",
              "관인면     1\n",
              "창수면     1\n",
              "Name: 행정구역, dtype: int64"
            ]
          },
          "metadata": {},
          "execution_count": 39
        }
      ]
    },
    {
      "cell_type": "code",
      "source": [
        "d3 = (data['업종명'] == '서양음식')"
      ],
      "metadata": {
        "id": "tCmSbC2fzH1B"
      },
      "execution_count": null,
      "outputs": []
    },
    {
      "cell_type": "code",
      "source": [
        "t3 = data[d3]"
      ],
      "metadata": {
        "id": "8I5n_qvu0G4z"
      },
      "execution_count": null,
      "outputs": []
    },
    {
      "cell_type": "code",
      "source": [
        "t3['행정구역'].value_counts()"
      ],
      "metadata": {
        "colab": {
          "base_uri": "https://localhost:8080/"
        },
        "id": "HPmlDDdr0rWp",
        "outputId": "8c7f7c4b-aed6-47a7-c5ec-77912832ee4a"
      },
      "execution_count": null,
      "outputs": [
        {
          "output_type": "execute_result",
          "data": {
            "text/plain": [
              "소흘읍    187\n",
              "포천동     90\n",
              "일동면     37\n",
              "선단동     33\n",
              "영북면     30\n",
              "신북면     22\n",
              "내촌면     19\n",
              "이동면     17\n",
              "영중면     16\n",
              "가산면     13\n",
              "군내면     13\n",
              "화현면      8\n",
              "관인면      5\n",
              "창수면      1\n",
              "Name: 행정구역, dtype: int64"
            ]
          },
          "metadata": {},
          "execution_count": 45
        }
      ]
    },
    {
      "cell_type": "code",
      "source": [
        "d4 = (data['업종명'] == '스넥')"
      ],
      "metadata": {
        "id": "Jv7XqWEU0r7-"
      },
      "execution_count": null,
      "outputs": []
    },
    {
      "cell_type": "code",
      "source": [
        "t4 = data[d4]"
      ],
      "metadata": {
        "id": "3iqf_cRt0-Rt"
      },
      "execution_count": null,
      "outputs": []
    },
    {
      "cell_type": "code",
      "source": [
        "t4['행정구역'].value_counts()"
      ],
      "metadata": {
        "colab": {
          "base_uri": "https://localhost:8080/"
        },
        "id": "YXmMJ8gb0_zd",
        "outputId": "c6a8a622-b897-4a32-cd8f-75314fd71f14"
      },
      "execution_count": null,
      "outputs": [
        {
          "output_type": "execute_result",
          "data": {
            "text/plain": [
              "소흘읍    71\n",
              "포천동    37\n",
              "선단동    19\n",
              "영북면    18\n",
              "일동면    18\n",
              "가산면    14\n",
              "신북면    10\n",
              "이동면     9\n",
              "영중면     8\n",
              "내촌면     6\n",
              "관인면     3\n",
              "군내면     3\n",
              "화현면     1\n",
              "Name: 행정구역, dtype: int64"
            ]
          },
          "metadata": {},
          "execution_count": 49
        }
      ]
    },
    {
      "cell_type": "code",
      "source": [
        "d5 = (data['업종명'] == '보습학원')"
      ],
      "metadata": {
        "id": "UAM0sT6J1hFQ"
      },
      "execution_count": null,
      "outputs": []
    },
    {
      "cell_type": "code",
      "source": [
        "t5 = data[d5]"
      ],
      "metadata": {
        "id": "KjLx6R5N2rPO"
      },
      "execution_count": null,
      "outputs": []
    },
    {
      "cell_type": "code",
      "source": [
        "t5['행정구역'].value_counts()"
      ],
      "metadata": {
        "colab": {
          "base_uri": "https://localhost:8080/"
        },
        "id": "8J-VJBR72spX",
        "outputId": "cdad7fab-65e5-43ca-9b4a-95b83922f0ea"
      },
      "execution_count": null,
      "outputs": [
        {
          "output_type": "execute_result",
          "data": {
            "text/plain": [
              "소흘읍    27\n",
              "일동면    10\n",
              "포천동     8\n",
              "영북면     3\n",
              "가산면     2\n",
              "선단동     2\n",
              "영중면     1\n",
              "내촌면     1\n",
              "창수면     1\n",
              "신북면     1\n",
              "Name: 행정구역, dtype: int64"
            ]
          },
          "metadata": {},
          "execution_count": 55
        }
      ]
    },
    {
      "cell_type": "code",
      "source": [
        "d6 = (data['업종명'] == '슈퍼마켓')"
      ],
      "metadata": {
        "id": "RsEHvP7o2udt"
      },
      "execution_count": null,
      "outputs": []
    },
    {
      "cell_type": "code",
      "source": [
        "t6 = data[d6]\n",
        "len(t6)"
      ],
      "metadata": {
        "colab": {
          "base_uri": "https://localhost:8080/"
        },
        "id": "kxkvyHNR3BEj",
        "outputId": "8c0d859b-5797-43cd-806d-488ca4309d8f"
      },
      "execution_count": null,
      "outputs": [
        {
          "output_type": "execute_result",
          "data": {
            "text/plain": [
              "161"
            ]
          },
          "metadata": {},
          "execution_count": 64
        }
      ]
    },
    {
      "cell_type": "code",
      "source": [
        "t6['행정구역'].value_counts()"
      ],
      "metadata": {
        "colab": {
          "base_uri": "https://localhost:8080/"
        },
        "id": "YBtYUIp-3CPc",
        "outputId": "91534272-272f-4b1c-c533-102dc29d59f1"
      },
      "execution_count": null,
      "outputs": [
        {
          "output_type": "execute_result",
          "data": {
            "text/plain": [
              "소흘읍    39\n",
              "가산면    17\n",
              "선단동    17\n",
              "영북면    15\n",
              "포천동    13\n",
              "신북면    13\n",
              "이동면    11\n",
              "영중면     7\n",
              "일동면     6\n",
              "군내면     6\n",
              "화현면     6\n",
              "관인면     5\n",
              "내촌면     5\n",
              "창수면     1\n",
              "Name: 행정구역, dtype: int64"
            ]
          },
          "metadata": {},
          "execution_count": 65
        }
      ]
    },
    {
      "cell_type": "code",
      "source": [
        "d7 = (data['업종명'] == '중국식')"
      ],
      "metadata": {
        "id": "ioEZnjKi3EKP"
      },
      "execution_count": null,
      "outputs": []
    },
    {
      "cell_type": "code",
      "source": [
        "t7 = data[d7]"
      ],
      "metadata": {
        "id": "tb5AuSX-3loW"
      },
      "execution_count": null,
      "outputs": []
    },
    {
      "cell_type": "code",
      "source": [
        "t7['행정구역'].value_counts()"
      ],
      "metadata": {
        "colab": {
          "base_uri": "https://localhost:8080/"
        },
        "id": "VPNN7sL_3m3G",
        "outputId": "2c667f94-880c-4342-e451-77438870ab50"
      },
      "execution_count": null,
      "outputs": [
        {
          "output_type": "execute_result",
          "data": {
            "text/plain": [
              "소흘읍    34\n",
              "포천동    13\n",
              "선단동    12\n",
              "영북면    11\n",
              "이동면    10\n",
              "일동면     8\n",
              "영중면     7\n",
              "가산면     7\n",
              "신북면     7\n",
              "내촌면     6\n",
              "군내면     5\n",
              "관인면     2\n",
              "창수면     2\n",
              "화현면     1\n",
              "Name: 행정구역, dtype: int64"
            ]
          },
          "metadata": {},
          "execution_count": 77
        }
      ]
    },
    {
      "cell_type": "code",
      "source": [
        "d8 = (data['업종명'] == '정육점')"
      ],
      "metadata": {
        "id": "JuQXdeme3pB-"
      },
      "execution_count": null,
      "outputs": []
    },
    {
      "cell_type": "code",
      "source": [
        "t8 = data[d8]"
      ],
      "metadata": {
        "id": "MLQ4LTJt4DGB"
      },
      "execution_count": null,
      "outputs": []
    },
    {
      "cell_type": "code",
      "source": [
        "t8['행정구역'].value_counts()"
      ],
      "metadata": {
        "colab": {
          "base_uri": "https://localhost:8080/"
        },
        "id": "uak2vbTf4EPu",
        "outputId": "d75c3628-6851-4d22-e951-7ba80df628c7"
      },
      "execution_count": null,
      "outputs": [
        {
          "output_type": "execute_result",
          "data": {
            "text/plain": [
              "소흘읍    34\n",
              "포천동    11\n",
              "선단동    10\n",
              "영북면     9\n",
              "일동면     9\n",
              "신북면     9\n",
              "이동면     8\n",
              "가산면     6\n",
              "군내면     4\n",
              "영중면     2\n",
              "관인면     2\n",
              "내촌면     2\n",
              "창수면     1\n",
              "화현면     1\n",
              "Name: 행정구역, dtype: int64"
            ]
          },
          "metadata": {},
          "execution_count": 82
        }
      ]
    },
    {
      "cell_type": "code",
      "source": [
        "d9 = (data['업종명'] == '스포츠 레져용품')"
      ],
      "metadata": {
        "id": "287y_A5H4Fzc"
      },
      "execution_count": null,
      "outputs": []
    },
    {
      "cell_type": "code",
      "source": [
        "t9 = data[d9]"
      ],
      "metadata": {
        "id": "GX2cBZS64Z49"
      },
      "execution_count": null,
      "outputs": []
    },
    {
      "cell_type": "code",
      "source": [
        "t9['행정구역'].value_counts()"
      ],
      "metadata": {
        "colab": {
          "base_uri": "https://localhost:8080/"
        },
        "id": "Xd7afxKJ4bTF",
        "outputId": "2dde52cc-5c5d-4af4-c870-d063c8289855"
      },
      "execution_count": null,
      "outputs": [
        {
          "output_type": "execute_result",
          "data": {
            "text/plain": [
              "소흘읍    74\n",
              "내촌면    29\n",
              "포천동    23\n",
              "가산면    12\n",
              "일동면     9\n",
              "선단동     8\n",
              "군내면     5\n",
              "이동면     4\n",
              "신북면     4\n",
              "영북면     3\n",
              "영중면     3\n",
              "관인면     1\n",
              "Name: 행정구역, dtype: int64"
            ]
          },
          "metadata": {},
          "execution_count": 85
        }
      ]
    },
    {
      "cell_type": "code",
      "source": [
        "d10 = (data['업종명'] == '미용원')"
      ],
      "metadata": {
        "id": "r6l3zCt14d5L"
      },
      "execution_count": null,
      "outputs": []
    },
    {
      "cell_type": "code",
      "source": [
        "t10 = data[d10]\n",
        "t10['행정구역'].value_counts()"
      ],
      "metadata": {
        "id": "XwX0VDDE4srE",
        "outputId": "60eba8c4-7175-4629-f476-4a25c4f24546",
        "colab": {
          "base_uri": "https://localhost:8080/"
        }
      },
      "execution_count": null,
      "outputs": [
        {
          "output_type": "execute_result",
          "data": {
            "text/plain": [
              "소흘읍    100\n",
              "포천동     78\n",
              "일동면     27\n",
              "선단동     24\n",
              "영북면     16\n",
              "가산면     10\n",
              "이동면      8\n",
              "영중면      7\n",
              "신북면      7\n",
              "내촌면      5\n",
              "관인면      4\n",
              "군내면      4\n",
              "Name: 행정구역, dtype: int64"
            ]
          },
          "metadata": {},
          "execution_count": 87
        }
      ]
    },
    {
      "cell_type": "code",
      "source": [
        ""
      ],
      "metadata": {
        "id": "MhpEljtG4xG8"
      },
      "execution_count": null,
      "outputs": []
    }
  ]
}