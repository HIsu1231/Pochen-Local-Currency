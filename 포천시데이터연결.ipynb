{
  "nbformat": 4,
  "nbformat_minor": 0,
  "metadata": {
    "colab": {
      "name": "포천시데이터연결.ipynb",
      "provenance": [],
      "collapsed_sections": [],
      "mount_file_id": "1r9rwf1Rd6a5CH4raKhUcii0O7sLdePZd",
      "authorship_tag": "ABX9TyP8+7dRdyFMRNhH3UqhAPLc",
      "include_colab_link": true
    },
    "kernelspec": {
      "name": "python3",
      "display_name": "Python 3"
    },
    "language_info": {
      "name": "python"
    }
  },
  "cells": [
    {
      "cell_type": "markdown",
      "metadata": {
        "id": "view-in-github",
        "colab_type": "text"
      },
      "source": [
        "<a href=\"https://colab.research.google.com/github/HIsu1231/Pochen_-Local-Currency/blob/main/%ED%8F%AC%EC%B2%9C%EC%8B%9C%EB%8D%B0%EC%9D%B4%ED%84%B0%EC%97%B0%EA%B2%B0.ipynb\" target=\"_parent\"><img src=\"https://colab.research.google.com/assets/colab-badge.svg\" alt=\"Open In Colab\"/></a>"
      ]
    },
    {
      "cell_type": "code",
      "metadata": {
        "id": "taqjDRDXX9D5"
      },
      "source": [
        "import pandas as pd"
      ],
      "execution_count": null,
      "outputs": []
    },
    {
      "cell_type": "code",
      "metadata": {
        "colab": {
          "base_uri": "https://localhost:8080/"
        },
        "id": "Qb70OhG8_dhZ",
        "outputId": "c4dd9c33-2fe2-4289-e0dc-d3646b8314b3"
      },
      "source": [
        "from google.colab import drive\n",
        "drive.mount('/content/drive')"
      ],
      "execution_count": null,
      "outputs": [
        {
          "output_type": "stream",
          "name": "stdout",
          "text": [
            "Drive already mounted at /content/drive; to attempt to forcibly remount, call drive.mount(\"/content/drive\", force_remount=True).\n"
          ]
        }
      ]
    },
    {
      "cell_type": "code",
      "metadata": {
        "colab": {
          "base_uri": "https://localhost:8080/"
        },
        "id": "xOCogePEazhu",
        "outputId": "19190b88-c2e0-4be9-d0e5-e9536c7200c2"
      },
      "source": [
        "import os\n",
        "os.listdir('/content/drive/MyDrive/payment')"
      ],
      "execution_count": null,
      "outputs": [
        {
          "output_type": "execute_result",
          "data": {
            "text/plain": [
              "['포천_payment20200601.csv',\n",
              " '포천_payment20200608.csv',\n",
              " '포천_payment20200615.csv',\n",
              " '포천_payment20200622.csv',\n",
              " '포천_payment20200629.csv',\n",
              " '포천_payment20200706.csv',\n",
              " '포천_payment20200713.csv',\n",
              " '포천_payment20200720.csv',\n",
              " '포천_payment20200727.csv',\n",
              " '포천_payment20200803.csv',\n",
              " '포천_payment20200810.csv',\n",
              " '포천_payment20200817.csv',\n",
              " '포천_payment20200824.csv',\n",
              " '포천_payment20200831.csv',\n",
              " '포천_payment20200907.csv',\n",
              " '포천_payment20200914.csv',\n",
              " '포천_payment20200921.csv',\n",
              " '포천_payment20200928.csv',\n",
              " '포천_payment20201005.csv',\n",
              " '포천_payment20201012.csv',\n",
              " '포천_payment20201019.csv',\n",
              " '포천_payment20201026.csv',\n",
              " '포천_payment20201102.csv',\n",
              " '포천_payment20201109.csv',\n",
              " '포천_payment20201116.csv',\n",
              " '포천_payment20201123.csv',\n",
              " '포천_payment20201130.csv',\n",
              " 'payment_merge_5_1.csv',\n",
              " 'payment_merge_1.xlsx',\n",
              " 'payment_merge_6_1.csv',\n",
              " 'charge_merge_07.csv',\n",
              " 'payment_merge_08.csv',\n",
              " 'payment_merge_09.csv',\n",
              " 'payment_merge_10.csv',\n",
              " 'payment_merge_11.csv',\n",
              " 'payment_merge_12.csv',\n",
              " 'payment_merge_1_2.csv',\n",
              " 'payment_merge_2_2.csv',\n",
              " 'payment_merge_3_2.csv',\n",
              " 'payment_merge_4_2.csv',\n",
              " 'payment_merge_5_2.csv']"
            ]
          },
          "metadata": {},
          "execution_count": 10
        }
      ]
    },
    {
      "cell_type": "code",
      "metadata": {
        "colab": {
          "base_uri": "https://localhost:8080/"
        },
        "id": "8-4rmOaZa4aW",
        "outputId": "ccb2ddff-76f6-4550-ed3c-5f4ee56220fd"
      },
      "source": [
        "folder = os.listdir('/content/drive/MyDrive/payment')\n",
        "print(folder)"
      ],
      "execution_count": null,
      "outputs": [
        {
          "output_type": "stream",
          "name": "stdout",
          "text": [
            "['포천_payment20200601.csv', '포천_payment20200608.csv', '포천_payment20200615.csv', '포천_payment20200622.csv', '포천_payment20200629.csv', '포천_payment20200706.csv', '포천_payment20200713.csv', '포천_payment20200720.csv', '포천_payment20200727.csv', '포천_payment20200803.csv', '포천_payment20200810.csv', '포천_payment20200817.csv', '포천_payment20200824.csv', '포천_payment20200831.csv', '포천_payment20200907.csv', '포천_payment20200914.csv', '포천_payment20200921.csv', '포천_payment20200928.csv', '포천_payment20201005.csv', '포천_payment20201012.csv', '포천_payment20201019.csv', '포천_payment20201026.csv', '포천_payment20201102.csv', '포천_payment20201109.csv', '포천_payment20201116.csv', '포천_payment20201123.csv', '포천_payment20201130.csv', 'payment_merge_5_1.csv', 'payment_merge_1.xlsx', 'payment_merge_6_1.csv', 'charge_merge_07.csv', 'payment_merge_08.csv', 'payment_merge_09.csv', 'payment_merge_10.csv', 'payment_merge_11.csv', 'payment_merge_12.csv', 'payment_merge_1_2.csv', 'payment_merge_2_2.csv', 'payment_merge_3_2.csv', 'payment_merge_4_2.csv', 'payment_merge_5_2.csv']\n"
          ]
        }
      ]
    },
    {
      "cell_type": "code",
      "metadata": {
        "colab": {
          "base_uri": "https://localhost:8080/"
        },
        "id": "o4sdje_xcV29",
        "outputId": "0a420b1f-59e8-474a-e9db-83388e9529cd"
      },
      "source": [
        "folder2 = folder[0:5]\n",
        "print(folder2)"
      ],
      "execution_count": null,
      "outputs": [
        {
          "output_type": "stream",
          "name": "stdout",
          "text": [
            "['포천_payment20200601.csv', '포천_payment20200608.csv', '포천_payment20200615.csv', '포천_payment20200622.csv', '포천_payment20200629.csv']\n"
          ]
        }
      ]
    },
    {
      "cell_type": "code",
      "metadata": {
        "id": "UXrYNLy0LQA3"
      },
      "source": [
        "os.chdir('/content/drive/MyDrive/payment')"
      ],
      "execution_count": null,
      "outputs": []
    },
    {
      "cell_type": "code",
      "metadata": {
        "colab": {
          "base_uri": "https://localhost:8080/"
        },
        "id": "z5vtWfc0bAjL",
        "outputId": "6a32e70a-26e6-4a9c-b263-13e6a32dda74"
      },
      "source": [
        "os.chdir('/content/drive/MyDrive/payment')\n",
        "d = pd.read_csv('/content/drive/MyDrive/payment/포천_payment20190429.csv', encoding='cp949')\n",
        "\n",
        "\n",
        "for i in folder2:\n",
        "  print(i)\n",
        "  df = pd.read_csv(i, encoding='cp949', index_col=False)\n",
        "\n",
        "  d = pd.concat([d, df])\n",
        "\n",
        "print(d.head())\n",
        "print(d.tail())"
      ],
      "execution_count": null,
      "outputs": [
        {
          "output_type": "stream",
          "name": "stdout",
          "text": [
            "포천_payment20190506.csv\n",
            "포천_payment20190513.csv\n",
            "포천_payment20190520.csv\n",
            "포천_payment20190527.csv\n",
            "      USER_ID SERVICE_NAME  ...       CASH_NAME TRAN_NUMBER\n",
            "0  3002036036  포천사랑상품권(정책)  ...  포천사랑상품권 청년기본소득    75011978\n",
            "1  3002130335  포천사랑상품권(정책)  ...   포천사랑상품권 산후조리비    74922722\n",
            "2  3002118626  포천사랑상품권(정책)  ...   포천사랑상품권 산후조리비    33594704\n",
            "3  3002118626  포천사랑상품권(정책)  ...   포천사랑상품권 산후조리비    33587804\n",
            "4  3002096635  포천사랑상품권(정책)  ...   포천사랑상품권 산후조리비    33055124\n",
            "\n",
            "[5 rows x 21 columns]\n",
            "         USER_ID SERVICE_NAME  ...       CASH_NAME TRAN_NUMBER\n",
            "2396  3002456620  포천사랑상품권(정책)  ...  포천사랑상품권 청년기본소득    77076643\n",
            "2397  3002086159  포천사랑상품권(정책)  ...   포천사랑상품권 산후조리비    76826987\n",
            "2398  3002429507  포천사랑상품권(정책)  ...  포천사랑상품권 청년기본소득    30686423\n",
            "2399  3002689387  포천사랑상품권(정책)  ...  포천사랑상품권 청년기본소득    76926101\n",
            "2400  3002481115  포천사랑상품권(정책)  ...  포천사랑상품권 청년기본소득    76615212\n",
            "\n",
            "[5 rows x 21 columns]\n"
          ]
        }
      ]
    },
    {
      "cell_type": "code",
      "metadata": {
        "id": "fhZ6KzzObbUN"
      },
      "source": [
        "d.to_csv('/content/drive/MyDrive/payment/payment_merge_5_1.csv', encoding='cp949', header=False, index=False)\n",
        "\n",
        "save_xlsx = pd.ExcelWriter(\"payment_merge_1.xlsx\")\n",
        "d.to_excel(save_xlsx, index = False, sheet_name='201905') # xlsx 파일로 변환\n",
        "\n",
        "save_xlsx.save() #xlsx 파일로 저장"
      ],
      "execution_count": null,
      "outputs": []
    },
    {
      "cell_type": "code",
      "metadata": {
        "colab": {
          "base_uri": "https://localhost:8080/"
        },
        "id": "ZrQf8zhDlsEz",
        "outputId": "9c1adb89-2191-4461-befb-9ed0205b0604"
      },
      "source": [
        "folder2 = folder[5:9]\n",
        "print(folder2)"
      ],
      "execution_count": null,
      "outputs": [
        {
          "output_type": "stream",
          "name": "stdout",
          "text": [
            "['포천_payment20200706.csv', '포천_payment20200713.csv', '포천_payment20200720.csv', '포천_payment20200727.csv']\n"
          ]
        }
      ]
    },
    {
      "cell_type": "code",
      "metadata": {
        "colab": {
          "base_uri": "https://localhost:8080/"
        },
        "id": "IurXXWWcdRqZ",
        "outputId": "f614b4ef-b98c-466d-e41a-63977191ac39"
      },
      "source": [
        "d = pd.DataFrame() \n",
        "for i in folder2:\n",
        "  print(i)\n",
        "  df = pd.read_csv(i, encoding='cp949', index_col=False)\n",
        "\n",
        "  d = pd.concat([d, df])\n",
        "\n",
        "print(d.head())\n",
        "print(d.tail())"
      ],
      "execution_count": null,
      "outputs": [
        {
          "output_type": "stream",
          "name": "stdout",
          "text": [
            "포천_payment20200706.csv\n",
            "포천_payment20200713.csv\n",
            "포천_payment20200720.csv\n",
            "포천_payment20200727.csv\n",
            "           USER_ID SERVICE_NAME  ...            CASH_NAME TRAN_NUMBER\n",
            "0       3018337609      포천사랑상품권  ...  포천사랑상품권 재난기본소득(지자체)    78015806\n",
            "1  999999999999999      포천사랑상품권  ...  포천사랑상품권 재난기본소득(지자체)    78019840\n",
            "2  999999999999999      포천사랑상품권  ...  포천사랑상품권 재난기본소득(지자체)    78028331\n",
            "3  999999999999999      포천사랑상품권  ...  포천사랑상품권 재난기본소득(지자체)    78033923\n",
            "4       3018615479      포천사랑상품권  ...  포천사랑상품권 재난기본소득(지자체)    77979487\n",
            "\n",
            "[5 rows x 21 columns]\n",
            "               USER_ID SERVICE_NAME  ...            CASH_NAME TRAN_NUMBER\n",
            "62571       3010894103  포천사랑상품권(정책)  ...       포천사랑상품권 청년기본소득    79267474\n",
            "62572       3014777110      포천사랑상품권  ...                 NONE    54416203\n",
            "62573  999999999999999      포천사랑상품권  ...     포천시 긴급재난지원금(행안부)    79276567\n",
            "62574       3014777110      포천사랑상품권  ...     포천사랑상품권 추가형 인센티브    54416203\n",
            "62575       3010656121  포천사랑상품권(정책)  ...  포천사랑상품권 재난기본소득(지자체)    54412782\n",
            "\n",
            "[5 rows x 21 columns]\n"
          ]
        }
      ]
    },
    {
      "cell_type": "code",
      "metadata": {
        "id": "rL5NKQMDLgwh"
      },
      "source": [
        "d.to_csv('/content/drive/MyDrive/payment/payment_merge_7_2.csv', encoding='cp949', header=False, index=False)\n",
        "\n",
        "save_xlsx = pd.ExcelWriter(\"payment_merge_1.xlsx\")\n",
        "d.to_excel(save_xlsx, index = False, sheet_name='202007') # xlsx 파일로 변환\n",
        "\n",
        "save_xlsx.save() #xlsx 파일로 저장"
      ],
      "execution_count": null,
      "outputs": []
    },
    {
      "cell_type": "code",
      "metadata": {
        "colab": {
          "base_uri": "https://localhost:8080/"
        },
        "id": "2kqj1e6wnsTD",
        "outputId": "75e0497d-3426-47d2-93f0-50d694481401"
      },
      "source": [
        "folder2 = folder[9:14]\n",
        "print(folder2)"
      ],
      "execution_count": null,
      "outputs": [
        {
          "output_type": "stream",
          "name": "stdout",
          "text": [
            "['포천_payment20200803.csv', '포천_payment20200810.csv', '포천_payment20200817.csv', '포천_payment20200824.csv', '포천_payment20200831.csv']\n"
          ]
        }
      ]
    },
    {
      "cell_type": "code",
      "metadata": {
        "colab": {
          "base_uri": "https://localhost:8080/"
        },
        "id": "3MmBoakHpV_N",
        "outputId": "a2fb9538-afba-45b8-c406-94d718b2b114"
      },
      "source": [
        "d = pd.DataFrame() \n",
        "for i in folder2:\n",
        "  print(i)\n",
        "  df = pd.read_csv(i, encoding='cp949', index_col=False)\n",
        "\n",
        "  d = pd.concat([d, df])\n",
        "\n",
        "print(d.head())\n",
        "print(d.tail())"
      ],
      "execution_count": null,
      "outputs": [
        {
          "output_type": "stream",
          "name": "stdout",
          "text": [
            "포천_payment20200803.csv\n",
            "포천_payment20200810.csv\n",
            "포천_payment20200817.csv\n",
            "포천_payment20200824.csv\n",
            "포천_payment20200831.csv\n",
            "      USER_ID SERVICE_NAME  ...            CASH_NAME TRAN_NUMBER\n",
            "0  3024955245      포천사랑상품권  ...  포천사랑상품권 재난기본소득(지자체)    72923274\n",
            "1  3028343175      포천사랑상품권  ...  포천사랑상품권 재난기본소득(지자체)    57335481\n",
            "2  3017073390      포천사랑상품권  ...  포천사랑상품권 재난기본소득(지자체)    72897223\n",
            "3  3014747238      포천사랑상품권  ...     포천사랑상품권 추가형 인센티브    72911588\n",
            "4  3014747238      포천사랑상품권  ...                 NONE    72911588\n",
            "\n",
            "[5 rows x 21 columns]\n",
            "          USER_ID SERVICE_NAME  ...            CASH_NAME TRAN_NUMBER\n",
            "36365  3007040146  포천사랑상품권(정책)  ...                 NONE    75948712\n",
            "36366  3021335251      포천사랑상품권  ...       포천시 청소년교통비지원수당    56641778\n",
            "36367  3017864998      포천사랑상품권  ...  포천사랑상품권 재난기본소득(지자체)    56642323\n",
            "36368  3031197189      포천사랑상품권  ...                 NONE    56629766\n",
            "36369  3031197189      포천사랑상품권  ...     포천사랑상품권 추가형 인센티브    56629766\n",
            "\n",
            "[5 rows x 21 columns]\n"
          ]
        }
      ]
    },
    {
      "cell_type": "code",
      "metadata": {
        "id": "F9dFXgKXpcwA"
      },
      "source": [
        "d.to_csv('/content/drive/MyDrive/payment/charge_merge_08.csv', encoding='cp949', header=False, index=False)\n",
        "\n",
        "d.to_excel(save_xlsx, index = False, sheet_name='202008') # xlsx 파일로 변환\n",
        "\n",
        "save_xlsx.save() #xlsx 파일로 저장"
      ],
      "execution_count": null,
      "outputs": []
    },
    {
      "cell_type": "code",
      "metadata": {
        "colab": {
          "base_uri": "https://localhost:8080/"
        },
        "id": "JvY50AvBptx3",
        "outputId": "1faf90f8-ad89-4cca-da89-576a1f68aeea"
      },
      "source": [
        "folder2 = folder[14:18]\n",
        "print(folder2)"
      ],
      "execution_count": null,
      "outputs": [
        {
          "output_type": "stream",
          "name": "stdout",
          "text": [
            "['포천_payment20200907.csv', '포천_payment20200914.csv', '포천_payment20200921.csv', '포천_payment20200928.csv']\n"
          ]
        }
      ]
    },
    {
      "cell_type": "code",
      "metadata": {
        "colab": {
          "base_uri": "https://localhost:8080/"
        },
        "id": "gMJGpu43pxuh",
        "outputId": "6b59c72b-6609-4696-ec4c-150a56561f46"
      },
      "source": [
        "d = pd.DataFrame() \n",
        "for i in folder2:\n",
        "  print(i)\n",
        "  df = pd.read_csv(i, encoding='cp949', index_col=False)\n",
        "\n",
        "  d = pd.concat([d, df])\n",
        "\n",
        "print(d.head())\n",
        "print(d.tail())"
      ],
      "execution_count": null,
      "outputs": [
        {
          "output_type": "stream",
          "name": "stdout",
          "text": [
            "포천_payment20200907.csv\n",
            "포천_payment20200914.csv\n",
            "포천_payment20200921.csv\n",
            "포천_payment20200928.csv\n",
            "      USER_ID SERVICE_NAME  ...            CASH_NAME TRAN_NUMBER\n",
            "0  3028135180      포천사랑상품권  ...  포천사랑상품권 재난기본소득(지자체)    78877423\n",
            "1  3025320112      포천사랑상품권  ...     포천사랑상품권 추가형 인센티브    78883976\n",
            "2  3025320112      포천사랑상품권  ...                 NONE    78883976\n",
            "3  3024139136      포천사랑상품권  ...     포천사랑상품권 추가형 인센티브    78845710\n",
            "4  3024139136      포천사랑상품권  ...                 NONE    78845710\n",
            "\n",
            "[5 rows x 21 columns]\n",
            "          USER_ID SERVICE_NAME  ...         CASH_NAME TRAN_NUMBER\n",
            "40033  3022999204      포천사랑상품권  ...              NONE    71399939\n",
            "40034  3019756240      포천사랑상품권  ...  포천사랑상품권 추가형 인센티브    71402830\n",
            "40035  3019756240      포천사랑상품권  ...              NONE    71402830\n",
            "40036  3019721188      포천사랑상품권  ...  포천사랑상품권 추가형 인센티브    71415887\n",
            "40037  3019721188      포천사랑상품권  ...              NONE    71415887\n",
            "\n",
            "[5 rows x 21 columns]\n"
          ]
        }
      ]
    },
    {
      "cell_type": "code",
      "metadata": {
        "id": "Y3LL3CvLp2fZ"
      },
      "source": [
        "d.to_csv('/content/drive/MyDrive/payment/payment_merge_09.csv', encoding='cp949', header=False, index=False)\n",
        "\n",
        "d.to_excel(save_xlsx, index = False, sheet_name='202009') # xlsx 파일로 변환\n",
        "\n",
        "save_xlsx.save() #xlsx 파일로 저장"
      ],
      "execution_count": null,
      "outputs": []
    },
    {
      "cell_type": "code",
      "metadata": {
        "colab": {
          "base_uri": "https://localhost:8080/"
        },
        "id": "JaDIn2nkqCCn",
        "outputId": "abf79e2c-edbf-47e1-aff5-520947657229"
      },
      "source": [
        "folder2 = folder[18:22]\n",
        "print(folder2)"
      ],
      "execution_count": null,
      "outputs": [
        {
          "output_type": "stream",
          "name": "stdout",
          "text": [
            "['포천_payment20201005.csv', '포천_payment20201012.csv', '포천_payment20201019.csv', '포천_payment20201026.csv']\n"
          ]
        }
      ]
    },
    {
      "cell_type": "code",
      "metadata": {
        "colab": {
          "base_uri": "https://localhost:8080/"
        },
        "id": "Ypt_sVCJqEuI",
        "outputId": "2d3c822f-f02b-4886-b2ee-385c56a38f9f"
      },
      "source": [
        "d = pd.DataFrame() \n",
        "for i in folder2:\n",
        "  print(i)\n",
        "  df = pd.read_csv(i, encoding='cp949', index_col=False)\n",
        "\n",
        "  d = pd.concat([d, df])\n",
        "\n",
        "print(d.head())\n",
        "print(d.tail())"
      ],
      "execution_count": null,
      "outputs": [
        {
          "output_type": "stream",
          "name": "stdout",
          "text": [
            "포천_payment20201005.csv\n",
            "포천_payment20201012.csv\n",
            "포천_payment20201019.csv\n",
            "포천_payment20201026.csv\n",
            "      USER_ID SERVICE_NAME  ...         CASH_NAME TRAN_NUMBER\n",
            "0  3016909001      포천사랑상품권  ...  포천사랑상품권 추가형 인센티브    52227684\n",
            "1  3016909001      포천사랑상품권  ...              NONE    52227684\n",
            "2  3030126247      포천사랑상품권  ...  포천사랑상품권 추가형 인센티브    76617471\n",
            "3  3030126247      포천사랑상품권  ...              NONE    76617471\n",
            "4  3020724562      포천사랑상품권  ...  포천사랑상품권 추가형 인센티브    74045723\n",
            "\n",
            "[5 rows x 21 columns]\n",
            "          USER_ID SERVICE_NAME  ...         CASH_NAME TRAN_NUMBER\n",
            "39777  3017504315      포천사랑상품권  ...    포천시 청소년교통비지원수당    50198535\n",
            "39778  3017504315      포천사랑상품권  ...  포천사랑상품권 추가형 인센티브    50198535\n",
            "39779  3016808373      포천사랑상품권  ...              NONE    50218435\n",
            "39780  3016808373      포천사랑상품권  ...  포천사랑상품권 추가형 인센티브    50218435\n",
            "39781  3017504315      포천사랑상품권  ...              NONE    50198535\n",
            "\n",
            "[5 rows x 21 columns]\n"
          ]
        }
      ]
    },
    {
      "cell_type": "code",
      "metadata": {
        "id": "_NQJhz7EqMmk"
      },
      "source": [
        "d.to_csv('/content/drive/MyDrive/payment/payment_merge_10_2.csv', encoding='cp949', header=False, index=False)\n",
        "\n",
        "d.to_excel(save_xlsx, index = False, sheet_name='202010') # xlsx 파일로 변환\n",
        "\n",
        "save_xlsx.save() #xlsx 파일로 저장"
      ],
      "execution_count": null,
      "outputs": []
    },
    {
      "cell_type": "code",
      "metadata": {
        "colab": {
          "base_uri": "https://localhost:8080/"
        },
        "id": "5qJ8Q1VwqU2X",
        "outputId": "a14ae084-2952-4f8f-b74f-925a122600ea"
      },
      "source": [
        "folder2 = folder[22:27]\n",
        "print(folder2)"
      ],
      "execution_count": null,
      "outputs": [
        {
          "output_type": "stream",
          "name": "stdout",
          "text": [
            "['포천_payment20201102.csv', '포천_payment20201109.csv', '포천_payment20201116.csv', '포천_payment20201123.csv', '포천_payment20201130.csv']\n"
          ]
        }
      ]
    },
    {
      "cell_type": "code",
      "metadata": {
        "colab": {
          "base_uri": "https://localhost:8080/"
        },
        "id": "NjR9-0mGvjso",
        "outputId": "5c83cb9b-0ae4-4d70-88a4-2686ad9631fa"
      },
      "source": [
        "d = pd.DataFrame() \n",
        "for i in folder2:\n",
        "  print(i)\n",
        "  df = pd.read_csv(i, encoding='cp949', index_col=False)\n",
        "\n",
        "  d = pd.concat([d, df])\n",
        "\n",
        "print(d.head())\n",
        "print(d.tail())"
      ],
      "execution_count": null,
      "outputs": [
        {
          "output_type": "stream",
          "name": "stdout",
          "text": [
            "포천_payment20201102.csv\n",
            "포천_payment20201109.csv\n",
            "포천_payment20201116.csv\n",
            "포천_payment20201123.csv\n",
            "포천_payment20201130.csv\n",
            "      USER_ID SERVICE_NAME  ...         CASH_NAME TRAN_NUMBER\n",
            "0  3022446159      포천사랑상품권  ...              NONE    79849123\n",
            "1  3022446159      포천사랑상품권  ...  포천사랑상품권 추가형 인센티브    79849123\n",
            "2  3019685577      포천사랑상품권  ...        경기도  소비지원금    51909090\n",
            "3  3019229265      포천사랑상품권  ...  포천사랑상품권 추가형 인센티브    51925589\n",
            "4  3019229265      포천사랑상품권  ...              NONE    51925589\n",
            "\n",
            "[5 rows x 21 columns]\n",
            "          USER_ID SERVICE_NAME  ...         CASH_NAME TRAN_NUMBER\n",
            "36261  3007683105      포천사랑상품권  ...  포천사랑상품권 추가형 인센티브    73167482\n",
            "36262  3007683105      포천사랑상품권  ...              NONE    73167482\n",
            "36263  3016458102      포천사랑상품권  ...         경기도 소비지원금    73187594\n",
            "36264  3017070108      포천사랑상품권  ...  포천사랑상품권 추가형 인센티브    73172787\n",
            "36265  3017070108      포천사랑상품권  ...              NONE    73172787\n",
            "\n",
            "[5 rows x 21 columns]\n"
          ]
        }
      ]
    },
    {
      "cell_type": "code",
      "metadata": {
        "id": "lSx5sDCkvobZ"
      },
      "source": [
        "d.to_csv('/content/drive/MyDrive/payment/payment_merge_11_2.csv', encoding='cp949', header=False, index=False)\n",
        "\n",
        "d.to_excel(save_xlsx, index = False, sheet_name='202011') # xlsx 파일로 변환\n",
        "\n",
        "save_xlsx.save() #xlsx 파일로 저장"
      ],
      "execution_count": null,
      "outputs": []
    },
    {
      "cell_type": "code",
      "metadata": {
        "colab": {
          "base_uri": "https://localhost:8080/"
        },
        "id": "EQ-NdW46v2OX",
        "outputId": "934ee312-f4d7-4014-d428-c8166b18f2e5"
      },
      "source": [
        "folder2 = folder[27:31]\n",
        "print(folder2)"
      ],
      "execution_count": null,
      "outputs": [
        {
          "output_type": "stream",
          "name": "stdout",
          "text": [
            "['포천_payment20191104.csv', '포천_payment20191111.csv', '포천_payment20191118.csv', '포천_payment20191125.csv']\n"
          ]
        }
      ]
    },
    {
      "cell_type": "code",
      "metadata": {
        "colab": {
          "base_uri": "https://localhost:8080/"
        },
        "id": "UOupNdAFv48H",
        "outputId": "3ccb0cec-ce40-4849-8150-09ecb9c0f371"
      },
      "source": [
        "d = pd.DataFrame() \n",
        "for i in folder2:\n",
        "  print(i)\n",
        "  df = pd.read_csv(i, encoding='cp949', index_col=False)\n",
        "\n",
        "  d = pd.concat([d, df])\n",
        "\n",
        "print(d.head())\n",
        "print(d.tail())"
      ],
      "execution_count": null,
      "outputs": [
        {
          "output_type": "stream",
          "name": "stdout",
          "text": [
            "포천_payment20191104.csv\n",
            "포천_payment20191111.csv\n",
            "포천_payment20191118.csv\n",
            "포천_payment20191125.csv\n",
            "      USER_ID SERVICE_NAME  ...       CASH_NAME TRAN_NUMBER\n",
            "0  3006176146  포천사랑상품권(정책)  ...  포천사랑상품권 청년기본소득    31127151\n",
            "1  3006052266  포천사랑상품권(정책)  ...  포천사랑상품권 청년기본소득    74914906\n",
            "2  3002436485  포천사랑상품권(정책)  ...  포천사랑상품권 청년기본소득    31140105\n",
            "3  3002436185  포천사랑상품권(정책)  ...  포천사랑상품권 청년기본소득    74775123\n",
            "4  3002440140  포천사랑상품권(정책)  ...  포천사랑상품권 청년기본소득    31054670\n",
            "\n",
            "[5 rows x 21 columns]\n",
            "         USER_ID SERVICE_NAME  ...       CASH_NAME TRAN_NUMBER\n",
            "1634  3010634116  포천사랑상품권(정책)  ...  포천사랑상품권 청년기본소득    75467128\n",
            "1635  3002451691  포천사랑상품권(정책)  ...  포천사랑상품권 청년기본소득    75455655\n",
            "1636  3010616131  포천사랑상품권(정책)  ...  포천사랑상품권 청년기본소득    75506835\n",
            "1637  3002428432  포천사랑상품권(정책)  ...  포천사랑상품권 청년기본소득    75613818\n",
            "1638  3007942149  포천사랑상품권(정책)  ...            NONE    75509699\n",
            "\n",
            "[5 rows x 21 columns]\n"
          ]
        }
      ]
    },
    {
      "cell_type": "code",
      "metadata": {
        "id": "VpC-rVjXv8d1"
      },
      "source": [
        "d.to_csv('/content/drive/MyDrive/payment/payment_merge_11.csv', encoding='cp949', header=False, index=False)\n",
        "\n",
        "d.to_excel(save_xlsx, index = False, sheet_name='201911') # xlsx 파일로 변환\n",
        "\n",
        "save_xlsx.save() #xlsx 파일로 저장"
      ],
      "execution_count": null,
      "outputs": []
    },
    {
      "cell_type": "code",
      "metadata": {
        "colab": {
          "base_uri": "https://localhost:8080/"
        },
        "id": "xG0zTFXmwFHQ",
        "outputId": "ee2a5d16-dfad-4bd5-94c9-3699d5daa6eb"
      },
      "source": [
        "folder2 = folder[31:36]\n",
        "print(folder2)"
      ],
      "execution_count": null,
      "outputs": [
        {
          "output_type": "stream",
          "name": "stdout",
          "text": [
            "['포천_payment20191202.csv', '포천_payment20191209.csv', '포천_payment20191216.csv', '포천_payment20191223.csv', '포천_payment20191230.csv']\n"
          ]
        }
      ]
    },
    {
      "cell_type": "code",
      "metadata": {
        "colab": {
          "base_uri": "https://localhost:8080/"
        },
        "id": "IDRkqWMuwHbo",
        "outputId": "d489020e-aa4a-470d-d069-6be69884cb7d"
      },
      "source": [
        "d = pd.DataFrame() \n",
        "for i in folder2:\n",
        "  print(i)\n",
        "  df = pd.read_csv(i, encoding='cp949', index_col=False)\n",
        "\n",
        "  d = pd.concat([d, df])\n",
        "\n",
        "print(d.head())\n",
        "print(d.tail())"
      ],
      "execution_count": null,
      "outputs": [
        {
          "output_type": "stream",
          "name": "stdout",
          "text": [
            "포천_payment20191202.csv\n",
            "포천_payment20191209.csv\n",
            "포천_payment20191216.csv\n",
            "포천_payment20191223.csv\n",
            "포천_payment20191230.csv\n",
            "      USER_ID SERVICE_NAME  ...       CASH_NAME TRAN_NUMBER\n",
            "0  3010727370  포천사랑상품권(정책)  ...  포천사랑상품권 청년기본소득    75855778\n",
            "1  3006366205  포천사랑상품권(정책)  ...  포천사랑상품권 청년기본소득    75837328\n",
            "2  3008636237  포천사랑상품권(정책)  ...   포천사랑상품권 산후조리비    75788599\n",
            "3  3010874144  포천사랑상품권(정책)  ...  포천사랑상품권 청년기본소득    75869863\n",
            "4  3010912120  포천사랑상품권(정책)  ...  포천사랑상품권 청년기본소득    77084776\n",
            "\n",
            "[5 rows x 21 columns]\n",
            "         USER_ID SERVICE_NAME  ...       CASH_NAME TRAN_NUMBER\n",
            "4301  3010669224  포천사랑상품권(정책)  ...  포천사랑상품권 청년기본소득    71181891\n",
            "4302  3010655168  포천사랑상품권(정책)  ...  포천사랑상품권 청년기본소득    71125082\n",
            "4303  3012420114  포천사랑상품권(정책)  ...  포천사랑상품권 청년기본소득    71238490\n",
            "4304  3012430242  포천사랑상품권(정책)  ...  포천사랑상품권 청년기본소득    52463454\n",
            "4305  3011757125  포천사랑상품권(정책)  ...  포천사랑상품권 청년기본소득    71239361\n",
            "\n",
            "[5 rows x 21 columns]\n"
          ]
        }
      ]
    },
    {
      "cell_type": "code",
      "metadata": {
        "id": "_fC5KrwzwLNN"
      },
      "source": [
        "d.to_csv('/content/drive/MyDrive/payment/payment_merge_12.csv', encoding='cp949', header=False, index=False)\n",
        "\n",
        "d.to_excel(save_xlsx, index = False, sheet_name='201912') # xlsx 파일로 변환\n",
        "\n",
        "save_xlsx.save() #xlsx 파일로 저장"
      ],
      "execution_count": null,
      "outputs": []
    },
    {
      "cell_type": "code",
      "metadata": {
        "colab": {
          "base_uri": "https://localhost:8080/"
        },
        "id": "5EM6zZ8twS_R",
        "outputId": "d07f3bf9-b030-4a2a-a71e-4cbed0f23033"
      },
      "source": [
        "folder2 = folder[36:40]\n",
        "print(folder2)"
      ],
      "execution_count": null,
      "outputs": [
        {
          "output_type": "stream",
          "name": "stdout",
          "text": [
            "['포천_payment20200106.csv', '포천_payment20200113.csv', '포천_payment20200120.csv', '포천_payment20200127.csv']\n"
          ]
        }
      ]
    },
    {
      "cell_type": "code",
      "metadata": {
        "colab": {
          "base_uri": "https://localhost:8080/"
        },
        "id": "3MRQqTG_xgws",
        "outputId": "01ec6cd7-c90e-460a-846f-61923312b072"
      },
      "source": [
        "d = pd.DataFrame() \n",
        "for i in folder2:\n",
        "  print(i)\n",
        "  df = pd.read_csv(i, encoding='cp949', index_col=False)\n",
        "\n",
        "  d = pd.concat([d, df])\n",
        "\n",
        "print(d.head())\n",
        "print(d.tail())"
      ],
      "execution_count": null,
      "outputs": [
        {
          "output_type": "stream",
          "name": "stdout",
          "text": [
            "포천_payment20200106.csv\n",
            "포천_payment20200113.csv\n",
            "포천_payment20200120.csv\n",
            "포천_payment20200127.csv\n",
            "      USER_ID SERVICE_NAME  ...       CASH_NAME TRAN_NUMBER\n",
            "0  3012410118  포천사랑상품권(정책)  ...  포천사랑상품권 청년기본소득    71297063\n",
            "1  3010711118  포천사랑상품권(정책)  ...  포천사랑상품권 청년기본소득    71169431\n",
            "2  3004195939  포천사랑상품권(정책)  ...  포천사랑상품권 청년기본소득    60226748\n",
            "3  3006133546  포천사랑상품권(정책)  ...  포천사랑상품권 청년기본소득    60340778\n",
            "4  3012410118  포천사랑상품권(정책)  ...  포천사랑상품권 청년기본소득    71235611\n",
            "\n",
            "[5 rows x 21 columns]\n",
            "         USER_ID SERVICE_NAME  ...         CASH_NAME TRAN_NUMBER\n",
            "3307  3012518100  포천사랑상품권(정책)  ...    포천사랑상품권 청년기본소득    76863936\n",
            "3308  3002441562  포천사랑상품권(정책)  ...    포천사랑상품권 청년기본소득    76943835\n",
            "3309  3011412145  포천사랑상품권(정책)  ...    포천사랑상품권 청년기본소득    35164489\n",
            "3310  3013345197      포천사랑상품권  ...  포천사랑상품권 추가형 인센티브    76940127\n",
            "3311  3013345197      포천사랑상품권  ...              NONE    76940127\n",
            "\n",
            "[5 rows x 21 columns]\n"
          ]
        }
      ]
    },
    {
      "cell_type": "code",
      "metadata": {
        "id": "iSjjSL14xk8U"
      },
      "source": [
        "d.to_csv('/content/drive/MyDrive/payment/payment_merge_1_2.csv', encoding='cp949', header=False, index=False)\n",
        "\n",
        "d.to_excel(save_xlsx, index = False, sheet_name='202001') # xlsx 파일로 변환\n",
        "\n",
        "save_xlsx.save() #xlsx 파일로 저장"
      ],
      "execution_count": null,
      "outputs": []
    },
    {
      "cell_type": "code",
      "metadata": {
        "colab": {
          "base_uri": "https://localhost:8080/"
        },
        "id": "ZwWSYq1zxvyg",
        "outputId": "5c1adffb-20ea-4402-d544-aaf6146a1dbc"
      },
      "source": [
        "folder2 = folder[40:44]\n",
        "print(folder2)"
      ],
      "execution_count": null,
      "outputs": [
        {
          "output_type": "stream",
          "name": "stdout",
          "text": [
            "['포천_payment20200203.csv', '포천_payment20200210.csv', '포천_payment20200217.csv', '포천_payment20200224.csv']\n"
          ]
        }
      ]
    },
    {
      "cell_type": "code",
      "metadata": {
        "colab": {
          "base_uri": "https://localhost:8080/"
        },
        "id": "KEfuk9xKxyoU",
        "outputId": "5fa726a6-590f-4d29-c3ad-c2f81dadd584"
      },
      "source": [
        "d = pd.DataFrame() \n",
        "for i in folder2:\n",
        "  print(i)\n",
        "  df = pd.read_csv(i, encoding='cp949', index_col=False)\n",
        "\n",
        "  d = pd.concat([d, df])\n",
        "\n",
        "print(d.head())\n",
        "print(d.tail())"
      ],
      "execution_count": null,
      "outputs": [
        {
          "output_type": "stream",
          "name": "stdout",
          "text": [
            "포천_payment20200203.csv\n",
            "포천_payment20200210.csv\n",
            "포천_payment20200217.csv\n",
            "포천_payment20200224.csv\n",
            "      USER_ID SERVICE_NAME  ...         CASH_NAME TRAN_NUMBER\n",
            "0  3013325219      포천사랑상품권  ...  포천사랑상품권 추가형 인센티브    79350467\n",
            "1  3013325219      포천사랑상품권  ...              NONE    79350467\n",
            "2  3010676144  포천사랑상품권(정책)  ...    포천사랑상품권 청년기본소득    42958044\n",
            "3  3013714182      포천사랑상품권  ...  포천사랑상품권 추가형 인센티브    78231964\n",
            "4  3013714182      포천사랑상품권  ...              NONE    78231964\n",
            "\n",
            "[5 rows x 21 columns]\n",
            "         USER_ID SERVICE_NAME  ...         CASH_NAME TRAN_NUMBER\n",
            "3990  3008832148      포천사랑상품권  ...              NONE    51395522\n",
            "3991  3008832148      포천사랑상품권  ...  포천사랑상품권 추가형 인센티브    51407226\n",
            "3992  3008832148      포천사랑상품권  ...              NONE    51407226\n",
            "3993  3012359117  포천사랑상품권(정책)  ...    포천사랑상품권 청년기본소득    71878375\n",
            "3994  3013660119  포천사랑상품권(정책)  ...   포천사랑상품권 여성취업지원금    71824027\n",
            "\n",
            "[5 rows x 21 columns]\n"
          ]
        }
      ]
    },
    {
      "cell_type": "code",
      "metadata": {
        "id": "T0jRogxkx5Zk"
      },
      "source": [
        "d.to_csv('/content/drive/MyDrive/payment/payment_merge_2_2.csv', encoding='cp949', header=False, index=False)\n",
        "\n",
        "d.to_excel(save_xlsx, index = False, sheet_name='202002') # xlsx 파일로 변환\n",
        "\n",
        "save_xlsx.save() #xlsx 파일로 저장"
      ],
      "execution_count": null,
      "outputs": []
    },
    {
      "cell_type": "code",
      "metadata": {
        "colab": {
          "base_uri": "https://localhost:8080/"
        },
        "id": "Vnx-XWbAyHqL",
        "outputId": "5c3a3f8c-e512-4341-dd80-2e9b76af8b66"
      },
      "source": [
        "folder2 = folder[44:49]\n",
        "print(folder2)"
      ],
      "execution_count": null,
      "outputs": [
        {
          "output_type": "stream",
          "name": "stdout",
          "text": [
            "['포천_payment20200302.csv', '포천_payment20200309.csv', '포천_payment20200316.csv', '포천_payment20200323.csv', '포천_payment20200330.csv']\n"
          ]
        }
      ]
    },
    {
      "cell_type": "code",
      "metadata": {
        "colab": {
          "base_uri": "https://localhost:8080/"
        },
        "id": "nO6obMJtyNj5",
        "outputId": "599fa05a-5fe9-4110-ca82-27b632960c6e"
      },
      "source": [
        "d = pd.DataFrame() \n",
        "for i in folder2:\n",
        "  print(i)\n",
        "  df = pd.read_csv(i, encoding='cp949', index_col=False)\n",
        "\n",
        "  d = pd.concat([d, df])\n",
        "\n",
        "print(d.head())\n",
        "print(d.tail())"
      ],
      "execution_count": null,
      "outputs": [
        {
          "output_type": "stream",
          "name": "stdout",
          "text": [
            "포천_payment20200302.csv\n",
            "포천_payment20200309.csv\n",
            "포천_payment20200316.csv\n",
            "포천_payment20200323.csv\n",
            "포천_payment20200330.csv\n",
            "      USER_ID SERVICE_NAME  ...         CASH_NAME TRAN_NUMBER\n",
            "0  3014751165      포천사랑상품권  ...              NONE    72662748\n",
            "1  3012406201  포천사랑상품권(정책)  ...  포천사랑상품권 추가형 인센티브    59597830\n",
            "2  3012406201  포천사랑상품권(정책)  ...              NONE    59597830\n",
            "3  3005927125  포천사랑상품권(정책)  ...    포천사랑상품권 청년기본소득    59691610\n",
            "4  3013617117      포천사랑상품권  ...  포천사랑상품권 추가형 인센티브    72784400\n",
            "\n",
            "[5 rows x 21 columns]\n",
            "         USER_ID SERVICE_NAME  ...         CASH_NAME TRAN_NUMBER\n",
            "6386  3005819194  포천사랑상품권(정책)  ...    포천사랑상품권 청년기본소득    72214184\n",
            "6387  3014223117      포천사랑상품권  ...  포천사랑상품권 추가형 인센티브    58185485\n",
            "6388  3014223117      포천사랑상품권  ...              NONE    58185485\n",
            "6389  3015576131      포천사랑상품권  ...  포천사랑상품권 추가형 인센티브    72136951\n",
            "6390  3015576131      포천사랑상품권  ...              NONE    72136951\n",
            "\n",
            "[5 rows x 21 columns]\n"
          ]
        }
      ]
    },
    {
      "cell_type": "code",
      "metadata": {
        "id": "ryaouaJPyT1y"
      },
      "source": [
        "d.to_csv('/content/drive/MyDrive/payment/payment_merge_3_2.csv', encoding='cp949', header=False, index=False)\n",
        "\n",
        "d.to_excel(save_xlsx, index = False, sheet_name='202003') # xlsx 파일로 변환\n",
        "\n",
        "save_xlsx.save() #xlsx 파일로 저장"
      ],
      "execution_count": null,
      "outputs": []
    },
    {
      "cell_type": "code",
      "metadata": {
        "colab": {
          "base_uri": "https://localhost:8080/"
        },
        "id": "AERWumWcyh8b",
        "outputId": "5d71bede-2c8e-4a42-b524-44bc9ed5711c"
      },
      "source": [
        "folder2 = folder[49:53]\n",
        "print(folder2)"
      ],
      "execution_count": null,
      "outputs": [
        {
          "output_type": "stream",
          "name": "stdout",
          "text": [
            "['포천_payment20200406.csv', '포천_payment20200413.csv', '포천_payment20200420.csv', '포천_payment20200427.csv']\n"
          ]
        }
      ]
    },
    {
      "cell_type": "code",
      "metadata": {
        "colab": {
          "base_uri": "https://localhost:8080/"
        },
        "id": "Ms_oq7V-yk-R",
        "outputId": "6e3cc114-8888-48bf-ba9f-fef10a97da09"
      },
      "source": [
        "d = pd.DataFrame() \n",
        "for i in folder2:\n",
        "  print(i)\n",
        "  df = pd.read_csv(i, encoding='cp949', index_col=False)\n",
        "\n",
        "  d = pd.concat([d, df])\n",
        "\n",
        "print(d.head())\n",
        "print(d.tail())"
      ],
      "execution_count": null,
      "outputs": [
        {
          "output_type": "stream",
          "name": "stdout",
          "text": [
            "포천_payment20200406.csv\n",
            "포천_payment20200413.csv\n",
            "포천_payment20200420.csv\n",
            "포천_payment20200427.csv\n",
            "      USER_ID SERVICE_NAME  ...         CASH_NAME TRAN_NUMBER\n",
            "0  3015266154      포천사랑상품권  ...  포천사랑상품권 추가형 인센티브    73131151\n",
            "1  3015266154      포천사랑상품권  ...              NONE    73131151\n",
            "2  3010956172  포천사랑상품권(정책)  ...    포천사랑상품권 청년기본소득    73065259\n",
            "3  3012152140      포천사랑상품권  ...  포천사랑상품권 추가형 인센티브    73091095\n",
            "4  3012152140      포천사랑상품권  ...              NONE    73091095\n",
            "\n",
            "[5 rows x 21 columns]\n",
            "          USER_ID SERVICE_NAME  ...         CASH_NAME TRAN_NUMBER\n",
            "31172  3010437137  포천사랑상품권(정책)  ...    포천사랑상품권 청년기본소득    75437150\n",
            "31173  3009441128      포천사랑상품권  ...        포천시 재난기본소득    36351119\n",
            "31174  3019553102      포천사랑상품권  ...        포천시 재난기본소득    36349143\n",
            "31175  3019553102      포천사랑상품권  ...  포천사랑상품권 추가형 인센티브    36349143\n",
            "31176  3019553102      포천사랑상품권  ...              NONE    36349143\n",
            "\n",
            "[5 rows x 21 columns]\n"
          ]
        }
      ]
    },
    {
      "cell_type": "code",
      "metadata": {
        "id": "l2AdvKdeynic"
      },
      "source": [
        "d.to_csv('/content/drive/MyDrive/payment/payment_merge_4_2.csv', encoding='cp949', header=False, index=False)\n",
        "\n",
        "d.to_excel(save_xlsx, index = False, sheet_name='202004') # xlsx 파일로 변환\n",
        "\n",
        "save_xlsx.save() #xlsx 파일로 저장"
      ],
      "execution_count": null,
      "outputs": []
    },
    {
      "cell_type": "code",
      "metadata": {
        "colab": {
          "base_uri": "https://localhost:8080/"
        },
        "id": "mTit-IT-ywJD",
        "outputId": "f50b1468-82f0-4574-9513-a085b384b977"
      },
      "source": [
        "folder2 = folder[53:57]\n",
        "print(folder2)\n",
        "#folder3 = folder2[:3]\n",
        "#folder3.append(folder2[5])\n",
        "#print(folder3)"
      ],
      "execution_count": null,
      "outputs": [
        {
          "output_type": "stream",
          "name": "stdout",
          "text": [
            "['포천_payment20200504.csv', '포천_payment20200511.csv', '포천_payment20200518.csv', '포천_payment20200525.csv']\n"
          ]
        }
      ]
    },
    {
      "cell_type": "code",
      "metadata": {
        "colab": {
          "base_uri": "https://localhost:8080/"
        },
        "id": "B0lvDIRVy0r2",
        "outputId": "0186cce6-d0c1-4020-8a1e-7c3af8f14cab"
      },
      "source": [
        "d = pd.DataFrame() \n",
        "for i in folder2:\n",
        "  print(i)\n",
        "  df = pd.read_csv(i, encoding='cp949', index_col=False)\n",
        "\n",
        "  d = pd.concat([d, df])\n",
        "\n",
        "print(d.head())\n",
        "print(d.tail())"
      ],
      "execution_count": null,
      "outputs": [
        {
          "output_type": "stream",
          "name": "stdout",
          "text": [
            "포천_payment20200504.csv\n",
            "포천_payment20200511.csv\n",
            "포천_payment20200518.csv\n",
            "포천_payment20200525.csv\n",
            "      USER_ID SERVICE_NAME  ...            CASH_NAME TRAN_NUMBER\n",
            "0  3012320137      포천사랑상품권  ...     포천사랑상품권 추가형 인센티브    79906103\n",
            "1  3012320137      포천사랑상품권  ...                 NONE    79906103\n",
            "2  3016907473      포천사랑상품권  ...  포천사랑상품권 재난기본소득(지자체)    39527636\n",
            "3  3012482112  포천사랑상품권(정책)  ...       포천사랑상품권 청년기본소득    79880107\n",
            "4  3014228183      포천사랑상품권  ...     포천사랑상품권 추가형 인센티브    79904172\n",
            "\n",
            "[5 rows x 21 columns]\n",
            "                USER_ID SERVICE_NAME  ...            CASH_NAME TRAN_NUMBER\n",
            "283393       3019712347      포천사랑상품권  ...     포천시 긴급재난지원금(행안부)    75538723\n",
            "283394       3017051182      포천사랑상품권  ...  포천사랑상품권 재난기본소득(지자체)    75544072\n",
            "283395  999999999999999      포천사랑상품권  ...  포천사랑상품권 재난기본소득(지자체)    75539874\n",
            "283396       3021626585      포천사랑상품권  ...           포천시 재난기본소득    75551156\n",
            "283397       3022120253      포천사랑상품권  ...     포천시 긴급재난지원금(행안부)    75553253\n",
            "\n",
            "[5 rows x 21 columns]\n"
          ]
        }
      ]
    },
    {
      "cell_type": "code",
      "metadata": {
        "id": "fJry9tWyy4AI"
      },
      "source": [
        "d.to_csv('/content/drive/MyDrive/payment/payment_merge_5_2.csv', encoding='cp949', header=False, index=False)\n",
        "\n",
        "d.to_excel(save_xlsx, index = False, sheet_name='202005') # xlsx 파일로 변환\n",
        "\n",
        "save_xlsx.save() #xlsx 파일로 저장"
      ],
      "execution_count": null,
      "outputs": []
    },
    {
      "cell_type": "code",
      "metadata": {
        "colab": {
          "base_uri": "https://localhost:8080/"
        },
        "id": "BA_9caaXy684",
        "outputId": "fca9a8e7-bd92-4a72-e48f-82f177bbb6df"
      },
      "source": [
        "folder2 = folder[57:62]\n",
        "print(folder2)\n"
      ],
      "execution_count": null,
      "outputs": [
        {
          "output_type": "stream",
          "name": "stdout",
          "text": [
            "['포천_payment20200601.csv', '포천_payment20200608.csv', '포천_payment20200615.csv', '포천_payment20200622.csv', '포천_payment20200629.csv']\n"
          ]
        }
      ]
    },
    {
      "cell_type": "code",
      "metadata": {
        "colab": {
          "base_uri": "https://localhost:8080/",
          "height": 404
        },
        "id": "3lnATi-GzFVQ",
        "outputId": "230efdf8-ca45-4688-ca76-6921bdd15ec8"
      },
      "source": [
        "d = pd.DataFrame() \n",
        "for i in folder2:\n",
        "  print(i)\n",
        "  df = pd.read_csv(i, encoding='cp949', index_col=False)\n",
        "\n",
        "  d = pd.concat([d, df])\n",
        "\n",
        "print(d.head())\n",
        "print(d.tail())"
      ],
      "execution_count": null,
      "outputs": [
        {
          "output_type": "stream",
          "name": "stdout",
          "text": [
            "포천_payment20200601.csv\n"
          ]
        },
        {
          "output_type": "error",
          "ename": "FileNotFoundError",
          "evalue": "ignored",
          "traceback": [
            "\u001b[0;31m---------------------------------------------------------------------------\u001b[0m",
            "\u001b[0;31mFileNotFoundError\u001b[0m                         Traceback (most recent call last)",
            "\u001b[0;32m<ipython-input-7-33a16a057c2c>\u001b[0m in \u001b[0;36m<module>\u001b[0;34m()\u001b[0m\n\u001b[1;32m      2\u001b[0m \u001b[0;32mfor\u001b[0m \u001b[0mi\u001b[0m \u001b[0;32min\u001b[0m \u001b[0mfolder2\u001b[0m\u001b[0;34m:\u001b[0m\u001b[0;34m\u001b[0m\u001b[0;34m\u001b[0m\u001b[0m\n\u001b[1;32m      3\u001b[0m   \u001b[0mprint\u001b[0m\u001b[0;34m(\u001b[0m\u001b[0mi\u001b[0m\u001b[0;34m)\u001b[0m\u001b[0;34m\u001b[0m\u001b[0;34m\u001b[0m\u001b[0m\n\u001b[0;32m----> 4\u001b[0;31m   \u001b[0mdf\u001b[0m \u001b[0;34m=\u001b[0m \u001b[0mpd\u001b[0m\u001b[0;34m.\u001b[0m\u001b[0mread_csv\u001b[0m\u001b[0;34m(\u001b[0m\u001b[0mi\u001b[0m\u001b[0;34m,\u001b[0m \u001b[0mencoding\u001b[0m\u001b[0;34m=\u001b[0m\u001b[0;34m'cp949'\u001b[0m\u001b[0;34m,\u001b[0m \u001b[0mindex_col\u001b[0m\u001b[0;34m=\u001b[0m\u001b[0;32mFalse\u001b[0m\u001b[0;34m)\u001b[0m\u001b[0;34m\u001b[0m\u001b[0;34m\u001b[0m\u001b[0m\n\u001b[0m\u001b[1;32m      5\u001b[0m \u001b[0;34m\u001b[0m\u001b[0m\n\u001b[1;32m      6\u001b[0m   \u001b[0md\u001b[0m \u001b[0;34m=\u001b[0m \u001b[0mpd\u001b[0m\u001b[0;34m.\u001b[0m\u001b[0mconcat\u001b[0m\u001b[0;34m(\u001b[0m\u001b[0;34m[\u001b[0m\u001b[0md\u001b[0m\u001b[0;34m,\u001b[0m \u001b[0mdf\u001b[0m\u001b[0;34m]\u001b[0m\u001b[0;34m)\u001b[0m\u001b[0;34m\u001b[0m\u001b[0;34m\u001b[0m\u001b[0m\n",
            "\u001b[0;32m/usr/local/lib/python3.7/dist-packages/pandas/io/parsers.py\u001b[0m in \u001b[0;36mread_csv\u001b[0;34m(filepath_or_buffer, sep, delimiter, header, names, index_col, usecols, squeeze, prefix, mangle_dupe_cols, dtype, engine, converters, true_values, false_values, skipinitialspace, skiprows, skipfooter, nrows, na_values, keep_default_na, na_filter, verbose, skip_blank_lines, parse_dates, infer_datetime_format, keep_date_col, date_parser, dayfirst, cache_dates, iterator, chunksize, compression, thousands, decimal, lineterminator, quotechar, quoting, doublequote, escapechar, comment, encoding, dialect, error_bad_lines, warn_bad_lines, delim_whitespace, low_memory, memory_map, float_precision)\u001b[0m\n\u001b[1;32m    686\u001b[0m     )\n\u001b[1;32m    687\u001b[0m \u001b[0;34m\u001b[0m\u001b[0m\n\u001b[0;32m--> 688\u001b[0;31m     \u001b[0;32mreturn\u001b[0m \u001b[0m_read\u001b[0m\u001b[0;34m(\u001b[0m\u001b[0mfilepath_or_buffer\u001b[0m\u001b[0;34m,\u001b[0m \u001b[0mkwds\u001b[0m\u001b[0;34m)\u001b[0m\u001b[0;34m\u001b[0m\u001b[0;34m\u001b[0m\u001b[0m\n\u001b[0m\u001b[1;32m    689\u001b[0m \u001b[0;34m\u001b[0m\u001b[0m\n\u001b[1;32m    690\u001b[0m \u001b[0;34m\u001b[0m\u001b[0m\n",
            "\u001b[0;32m/usr/local/lib/python3.7/dist-packages/pandas/io/parsers.py\u001b[0m in \u001b[0;36m_read\u001b[0;34m(filepath_or_buffer, kwds)\u001b[0m\n\u001b[1;32m    452\u001b[0m \u001b[0;34m\u001b[0m\u001b[0m\n\u001b[1;32m    453\u001b[0m     \u001b[0;31m# Create the parser.\u001b[0m\u001b[0;34m\u001b[0m\u001b[0;34m\u001b[0m\u001b[0;34m\u001b[0m\u001b[0m\n\u001b[0;32m--> 454\u001b[0;31m     \u001b[0mparser\u001b[0m \u001b[0;34m=\u001b[0m \u001b[0mTextFileReader\u001b[0m\u001b[0;34m(\u001b[0m\u001b[0mfp_or_buf\u001b[0m\u001b[0;34m,\u001b[0m \u001b[0;34m**\u001b[0m\u001b[0mkwds\u001b[0m\u001b[0;34m)\u001b[0m\u001b[0;34m\u001b[0m\u001b[0;34m\u001b[0m\u001b[0m\n\u001b[0m\u001b[1;32m    455\u001b[0m \u001b[0;34m\u001b[0m\u001b[0m\n\u001b[1;32m    456\u001b[0m     \u001b[0;32mif\u001b[0m \u001b[0mchunksize\u001b[0m \u001b[0;32mor\u001b[0m \u001b[0miterator\u001b[0m\u001b[0;34m:\u001b[0m\u001b[0;34m\u001b[0m\u001b[0;34m\u001b[0m\u001b[0m\n",
            "\u001b[0;32m/usr/local/lib/python3.7/dist-packages/pandas/io/parsers.py\u001b[0m in \u001b[0;36m__init__\u001b[0;34m(self, f, engine, **kwds)\u001b[0m\n\u001b[1;32m    946\u001b[0m             \u001b[0mself\u001b[0m\u001b[0;34m.\u001b[0m\u001b[0moptions\u001b[0m\u001b[0;34m[\u001b[0m\u001b[0;34m\"has_index_names\"\u001b[0m\u001b[0;34m]\u001b[0m \u001b[0;34m=\u001b[0m \u001b[0mkwds\u001b[0m\u001b[0;34m[\u001b[0m\u001b[0;34m\"has_index_names\"\u001b[0m\u001b[0;34m]\u001b[0m\u001b[0;34m\u001b[0m\u001b[0;34m\u001b[0m\u001b[0m\n\u001b[1;32m    947\u001b[0m \u001b[0;34m\u001b[0m\u001b[0m\n\u001b[0;32m--> 948\u001b[0;31m         \u001b[0mself\u001b[0m\u001b[0;34m.\u001b[0m\u001b[0m_make_engine\u001b[0m\u001b[0;34m(\u001b[0m\u001b[0mself\u001b[0m\u001b[0;34m.\u001b[0m\u001b[0mengine\u001b[0m\u001b[0;34m)\u001b[0m\u001b[0;34m\u001b[0m\u001b[0;34m\u001b[0m\u001b[0m\n\u001b[0m\u001b[1;32m    949\u001b[0m \u001b[0;34m\u001b[0m\u001b[0m\n\u001b[1;32m    950\u001b[0m     \u001b[0;32mdef\u001b[0m \u001b[0mclose\u001b[0m\u001b[0;34m(\u001b[0m\u001b[0mself\u001b[0m\u001b[0;34m)\u001b[0m\u001b[0;34m:\u001b[0m\u001b[0;34m\u001b[0m\u001b[0;34m\u001b[0m\u001b[0m\n",
            "\u001b[0;32m/usr/local/lib/python3.7/dist-packages/pandas/io/parsers.py\u001b[0m in \u001b[0;36m_make_engine\u001b[0;34m(self, engine)\u001b[0m\n\u001b[1;32m   1178\u001b[0m     \u001b[0;32mdef\u001b[0m \u001b[0m_make_engine\u001b[0m\u001b[0;34m(\u001b[0m\u001b[0mself\u001b[0m\u001b[0;34m,\u001b[0m \u001b[0mengine\u001b[0m\u001b[0;34m=\u001b[0m\u001b[0;34m\"c\"\u001b[0m\u001b[0;34m)\u001b[0m\u001b[0;34m:\u001b[0m\u001b[0;34m\u001b[0m\u001b[0;34m\u001b[0m\u001b[0m\n\u001b[1;32m   1179\u001b[0m         \u001b[0;32mif\u001b[0m \u001b[0mengine\u001b[0m \u001b[0;34m==\u001b[0m \u001b[0;34m\"c\"\u001b[0m\u001b[0;34m:\u001b[0m\u001b[0;34m\u001b[0m\u001b[0;34m\u001b[0m\u001b[0m\n\u001b[0;32m-> 1180\u001b[0;31m             \u001b[0mself\u001b[0m\u001b[0;34m.\u001b[0m\u001b[0m_engine\u001b[0m \u001b[0;34m=\u001b[0m \u001b[0mCParserWrapper\u001b[0m\u001b[0;34m(\u001b[0m\u001b[0mself\u001b[0m\u001b[0;34m.\u001b[0m\u001b[0mf\u001b[0m\u001b[0;34m,\u001b[0m \u001b[0;34m**\u001b[0m\u001b[0mself\u001b[0m\u001b[0;34m.\u001b[0m\u001b[0moptions\u001b[0m\u001b[0;34m)\u001b[0m\u001b[0;34m\u001b[0m\u001b[0;34m\u001b[0m\u001b[0m\n\u001b[0m\u001b[1;32m   1181\u001b[0m         \u001b[0;32melse\u001b[0m\u001b[0;34m:\u001b[0m\u001b[0;34m\u001b[0m\u001b[0;34m\u001b[0m\u001b[0m\n\u001b[1;32m   1182\u001b[0m             \u001b[0;32mif\u001b[0m \u001b[0mengine\u001b[0m \u001b[0;34m==\u001b[0m \u001b[0;34m\"python\"\u001b[0m\u001b[0;34m:\u001b[0m\u001b[0;34m\u001b[0m\u001b[0;34m\u001b[0m\u001b[0m\n",
            "\u001b[0;32m/usr/local/lib/python3.7/dist-packages/pandas/io/parsers.py\u001b[0m in \u001b[0;36m__init__\u001b[0;34m(self, src, **kwds)\u001b[0m\n\u001b[1;32m   1991\u001b[0m         \u001b[0;32mif\u001b[0m \u001b[0mkwds\u001b[0m\u001b[0;34m.\u001b[0m\u001b[0mget\u001b[0m\u001b[0;34m(\u001b[0m\u001b[0;34m\"compression\"\u001b[0m\u001b[0;34m)\u001b[0m \u001b[0;32mis\u001b[0m \u001b[0;32mNone\u001b[0m \u001b[0;32mand\u001b[0m \u001b[0mencoding\u001b[0m\u001b[0;34m:\u001b[0m\u001b[0;34m\u001b[0m\u001b[0;34m\u001b[0m\u001b[0m\n\u001b[1;32m   1992\u001b[0m             \u001b[0;32mif\u001b[0m \u001b[0misinstance\u001b[0m\u001b[0;34m(\u001b[0m\u001b[0msrc\u001b[0m\u001b[0;34m,\u001b[0m \u001b[0mstr\u001b[0m\u001b[0;34m)\u001b[0m\u001b[0;34m:\u001b[0m\u001b[0;34m\u001b[0m\u001b[0;34m\u001b[0m\u001b[0m\n\u001b[0;32m-> 1993\u001b[0;31m                 \u001b[0msrc\u001b[0m \u001b[0;34m=\u001b[0m \u001b[0mopen\u001b[0m\u001b[0;34m(\u001b[0m\u001b[0msrc\u001b[0m\u001b[0;34m,\u001b[0m \u001b[0;34m\"rb\"\u001b[0m\u001b[0;34m)\u001b[0m\u001b[0;34m\u001b[0m\u001b[0;34m\u001b[0m\u001b[0m\n\u001b[0m\u001b[1;32m   1994\u001b[0m                 \u001b[0mself\u001b[0m\u001b[0;34m.\u001b[0m\u001b[0mhandles\u001b[0m\u001b[0;34m.\u001b[0m\u001b[0mappend\u001b[0m\u001b[0;34m(\u001b[0m\u001b[0msrc\u001b[0m\u001b[0;34m)\u001b[0m\u001b[0;34m\u001b[0m\u001b[0;34m\u001b[0m\u001b[0m\n\u001b[1;32m   1995\u001b[0m \u001b[0;34m\u001b[0m\u001b[0m\n",
            "\u001b[0;31mFileNotFoundError\u001b[0m: [Errno 2] No such file or directory: '포천_payment20200601.csv'"
          ]
        }
      ]
    },
    {
      "cell_type": "code",
      "metadata": {
        "id": "qnj7OzZozLtk"
      },
      "source": [
        "d.to_csv('/content/drive/MyDrive/payment/payment_merge_6_2.csv', encoding='cp949', header=False, index=False)\n",
        "\n",
        "d.to_excel(save_xlsx, index = False, sheet_name='202006') # xlsx 파일로 변환\n",
        "\n",
        "save_xlsx.save() #xlsx 파일로 저장"
      ],
      "execution_count": null,
      "outputs": []
    },
    {
      "cell_type": "code",
      "metadata": {
        "colab": {
          "base_uri": "https://localhost:8080/"
        },
        "id": "Bf68Li4EzSwe",
        "outputId": "cffdfb41-bdc8-48d7-fe8a-1b66a1f9c0e9"
      },
      "source": [
        "folder2 = folder[62:66]\n",
        "print(folder2)"
      ],
      "execution_count": null,
      "outputs": [
        {
          "output_type": "stream",
          "name": "stdout",
          "text": [
            "['포천_charge20200706.csv', '포천_charge20200713.csv', '포천_charge20200720.csv', '포천_charge20200727.csv']\n"
          ]
        }
      ]
    },
    {
      "cell_type": "code",
      "metadata": {
        "colab": {
          "base_uri": "https://localhost:8080/"
        },
        "id": "lXe2SLlzzjB4",
        "outputId": "ded78ade-183d-41bb-dc08-8587ef8c5283"
      },
      "source": [
        "d = pd.DataFrame() \n",
        "for i in folder2:\n",
        "  print(i)\n",
        "  df = pd.read_csv(i, encoding='cp949', index_col=False)\n",
        "\n",
        "  d = pd.concat([d, df])\n",
        "\n",
        "print(d.head())\n",
        "print(d.tail())"
      ],
      "execution_count": null,
      "outputs": [
        {
          "output_type": "stream",
          "name": "stdout",
          "text": [
            "포천_charge20200706.csv\n",
            "포천_charge20200713.csv\n",
            "포천_charge20200720.csv\n",
            "포천_charge20200727.csv\n",
            "      USER_ID SERVICE_NAME  ...  POLICY_CASH_CHARGE_CANCEL_AMOUNT CASH_NAME\n",
            "0  3017331509      포천사랑상품권  ...                                 0      NONE\n",
            "1  3010398118      포천사랑상품권  ...                                 0      NONE\n",
            "2  3017187465      포천사랑상품권  ...                                 0      NONE\n",
            "3  3014910101      포천사랑상품권  ...                                 0      NONE\n",
            "4  3014751276      포천사랑상품권  ...                                 0      NONE\n",
            "\n",
            "[5 rows x 18 columns]\n",
            "         USER_ID SERVICE_NAME  ...  POLICY_CASH_CHARGE_CANCEL_AMOUNT CASH_NAME\n",
            "1623  3011944244      포천사랑상품권  ...                                 0      NONE\n",
            "1624  3017277310      포천사랑상품권  ...                                 0      NONE\n",
            "1625  3016950157      포천사랑상품권  ...                                 0      NONE\n",
            "1626  3017772562      포천사랑상품권  ...                                 0      NONE\n",
            "1627  3019109846      포천사랑상품권  ...                                 0      NONE\n",
            "\n",
            "[5 rows x 18 columns]\n"
          ]
        }
      ]
    },
    {
      "cell_type": "code",
      "metadata": {
        "id": "o7EOm5YSz4Ye"
      },
      "source": [
        "d.to_csv('/content/drive/MyDrive/charge/charge_merge_7_2.csv', encoding='cp949', header=False, index=False)\n",
        "\n",
        "d.to_excel(save_xlsx, index = False, sheet_name='202007') # xlsx 파일로 변환\n",
        "\n",
        "save_xlsx.save() #xlsx 파일로 저장"
      ],
      "execution_count": null,
      "outputs": []
    },
    {
      "cell_type": "code",
      "metadata": {
        "colab": {
          "base_uri": "https://localhost:8080/"
        },
        "id": "h_r9B1U00BMF",
        "outputId": "a2824c1b-bfae-4379-c3cc-3b75f98aeb89"
      },
      "source": [
        "folder2 = folder[66:71]\n",
        "print(folder2)"
      ],
      "execution_count": null,
      "outputs": [
        {
          "output_type": "stream",
          "name": "stdout",
          "text": [
            "['포천_charge20200803.csv', '포천_charge20200810.csv', '포천_charge20200817.csv', '포천_charge20200824.csv', '포천_charge20200831.csv']\n"
          ]
        }
      ]
    },
    {
      "cell_type": "code",
      "metadata": {
        "colab": {
          "base_uri": "https://localhost:8080/"
        },
        "id": "PEAdTBa90fld",
        "outputId": "b37ce94a-b044-4a13-9e16-8801ecaf04c0"
      },
      "source": [
        "d = pd.DataFrame() \n",
        "for i in folder2:\n",
        "  print(i)\n",
        "  df = pd.read_csv(i, encoding='cp949', index_col=False)\n",
        "\n",
        "  d = pd.concat([d, df])\n",
        "\n",
        "print(d.head())\n",
        "print(d.tail())"
      ],
      "execution_count": null,
      "outputs": [
        {
          "output_type": "stream",
          "name": "stdout",
          "text": [
            "포천_charge20200803.csv\n",
            "포천_charge20200810.csv\n",
            "포천_charge20200817.csv\n",
            "포천_charge20200824.csv\n",
            "포천_charge20200831.csv\n",
            "      USER_ID SERVICE_NAME  ...  POLICY_CASH_CHARGE_CANCEL_AMOUNT CASH_NAME\n",
            "0  3019275531      포천사랑상품권  ...                                 0      NONE\n",
            "1  3023267299      포천사랑상품권  ...                                 0      NONE\n",
            "2  3013167244      포천사랑상품권  ...                                 0      NONE\n",
            "3  3016780162      포천사랑상품권  ...                                 0      NONE\n",
            "4  3018914645      포천사랑상품권  ...                                 0      NONE\n",
            "\n",
            "[5 rows x 18 columns]\n",
            "         USER_ID SERVICE_NAME  ...  POLICY_CASH_CHARGE_CANCEL_AMOUNT CASH_NAME\n",
            "2950  3019980632      포천사랑상품권  ...                                 0      NONE\n",
            "2951  3019199879      포천사랑상품권  ...                                 0      NONE\n",
            "2952  3002655149      포천사랑상품권  ...                                 0      NONE\n",
            "2953  3014060246      포천사랑상품권  ...                                 0      NONE\n",
            "2954  3016609797  포천사랑상품권(정책)  ...                                 0      NONE\n",
            "\n",
            "[5 rows x 18 columns]\n"
          ]
        }
      ]
    },
    {
      "cell_type": "code",
      "metadata": {
        "id": "NZ6pvQGR0kdn"
      },
      "source": [
        "d.to_csv('/content/drive/MyDrive/charge/charge_merge_8_2.csv', encoding='cp949', header=False, index=False)\n",
        "\n",
        "d.to_excel(save_xlsx, index = False, sheet_name='202008') # xlsx 파일로 변환\n",
        "\n",
        "save_xlsx.save() #xlsx 파일로 저장"
      ],
      "execution_count": null,
      "outputs": []
    },
    {
      "cell_type": "code",
      "metadata": {
        "colab": {
          "base_uri": "https://localhost:8080/"
        },
        "id": "QWU2FlPj0nA9",
        "outputId": "c2ea82d0-a49a-4e72-a0d6-8f8ed7ccbede"
      },
      "source": [
        "folder2 = folder[71:75]\n",
        "print(folder2)"
      ],
      "execution_count": null,
      "outputs": [
        {
          "output_type": "stream",
          "name": "stdout",
          "text": [
            "['포천_charge20200907.csv', '포천_charge20200914.csv', '포천_charge20200921.csv', '포천_charge20200928.csv']\n"
          ]
        }
      ]
    },
    {
      "cell_type": "code",
      "metadata": {
        "colab": {
          "base_uri": "https://localhost:8080/"
        },
        "id": "g1G4DIaA0z_P",
        "outputId": "7a7ae8ba-5327-42c6-f814-dea9ff8e8f02"
      },
      "source": [
        "d = pd.DataFrame() \n",
        "for i in folder2:\n",
        "  print(i)\n",
        "  df = pd.read_csv(i, encoding='cp949', index_col=False)\n",
        "\n",
        "  d = pd.concat([d, df])\n",
        "\n",
        "print(d.head())\n",
        "print(d.tail())"
      ],
      "execution_count": null,
      "outputs": [
        {
          "output_type": "stream",
          "name": "stdout",
          "text": [
            "포천_charge20200907.csv\n",
            "포천_charge20200914.csv\n",
            "포천_charge20200921.csv\n",
            "포천_charge20200928.csv\n",
            "      USER_ID SERVICE_NAME  ...  POLICY_CASH_CHARGE_CANCEL_AMOUNT CASH_NAME\n",
            "0  3012746150  포천사랑상품권(정책)  ...                                 0      NONE\n",
            "1  3016585434      포천사랑상품권  ...                                 0      NONE\n",
            "2  3012542142      포천사랑상품권  ...                                 0      NONE\n",
            "3  3015841134      포천사랑상품권  ...                                 0      NONE\n",
            "4  3012746150  포천사랑상품권(정책)  ...                                 0      NONE\n",
            "\n",
            "[5 rows x 18 columns]\n",
            "         USER_ID SERVICE_NAME  ...  POLICY_CASH_CHARGE_CANCEL_AMOUNT CASH_NAME\n",
            "3450  3017383569      포천사랑상품권  ...                                 0      NONE\n",
            "3451  3023136113      포천사랑상품권  ...                                 0      NONE\n",
            "3452  3018345696      포천사랑상품권  ...                                 0      NONE\n",
            "3453  3015273142  포천사랑상품권(정책)  ...                                 0      NONE\n",
            "3454  3017897711      포천사랑상품권  ...                                 0      NONE\n",
            "\n",
            "[5 rows x 18 columns]\n"
          ]
        }
      ]
    },
    {
      "cell_type": "code",
      "metadata": {
        "id": "h0gzUvLW023_"
      },
      "source": [
        "d.to_csv('/content/drive/MyDrive/charge/charge_merge_9_2.csv', encoding='cp949', header=False, index=False)\n",
        "\n",
        "d.to_excel(save_xlsx, index = False, sheet_name='202009') # xlsx 파일로 변환\n",
        "\n",
        "save_xlsx.save() #xlsx 파일로 저장"
      ],
      "execution_count": null,
      "outputs": []
    },
    {
      "cell_type": "code",
      "metadata": {
        "colab": {
          "base_uri": "https://localhost:8080/"
        },
        "id": "W7JDpXwf07eG",
        "outputId": "df4a6c8f-855b-4be8-8722-973a95b743b5"
      },
      "source": [
        "folder2 = folder[75:79]\n",
        "print(folder2)"
      ],
      "execution_count": null,
      "outputs": [
        {
          "output_type": "stream",
          "name": "stdout",
          "text": [
            "['포천_charge20201005.csv', '포천_charge20201012.csv', '포천_charge20201019.csv', '포천_charge20201026.csv']\n"
          ]
        }
      ]
    },
    {
      "cell_type": "code",
      "metadata": {
        "colab": {
          "base_uri": "https://localhost:8080/"
        },
        "id": "guJsL4Tp1GKj",
        "outputId": "2c81afd5-4fcc-4259-d3ba-a79636e6805e"
      },
      "source": [
        "d = pd.DataFrame() \n",
        "for i in folder2:\n",
        "  print(i)\n",
        "  df = pd.read_csv(i, encoding='cp949', index_col=False)\n",
        "\n",
        "  d = pd.concat([d, df])\n",
        "\n",
        "print(d.head())\n",
        "print(d.tail())"
      ],
      "execution_count": null,
      "outputs": [
        {
          "output_type": "stream",
          "name": "stdout",
          "text": [
            "포천_charge20201005.csv\n",
            "포천_charge20201012.csv\n",
            "포천_charge20201019.csv\n",
            "포천_charge20201026.csv\n",
            "      USER_ID SERVICE_NAME  ...  POLICY_CASH_CHARGE_CANCEL_AMOUNT CASH_NAME\n",
            "0  3003647544  포천사랑상품권(정책)  ...                                 0      NONE\n",
            "1  3014331136      포천사랑상품권  ...                                 0      NONE\n",
            "2  3017105655      포천사랑상품권  ...                                 0      NONE\n",
            "3  3019452355      포천사랑상품권  ...                                 0      NONE\n",
            "4  3017643902      포천사랑상품권  ...                                 0      NONE\n",
            "\n",
            "[5 rows x 18 columns]\n",
            "         USER_ID SERVICE_NAME  ...  POLICY_CASH_CHARGE_CANCEL_AMOUNT   CASH_NAME\n",
            "7988  3017452505      포천사랑상품권  ...                                 0  경기도  소비지원금\n",
            "7989  3017479641      포천사랑상품권  ...                                 0  경기도  소비지원금\n",
            "7990  3018194383      포천사랑상품권  ...                                 0  경기도  소비지원금\n",
            "7991  3017493880      포천사랑상품권  ...                                 0  경기도  소비지원금\n",
            "7992  3023416161      포천사랑상품권  ...                                 0  경기도  소비지원금\n",
            "\n",
            "[5 rows x 18 columns]\n"
          ]
        }
      ]
    },
    {
      "cell_type": "code",
      "metadata": {
        "id": "NJmrRFTp1KkH"
      },
      "source": [
        "d.to_csv('/content/drive/MyDrive/charge/charge_merge_10_2.csv', encoding='cp949', header=False, index=False)\n",
        "\n",
        "d.to_excel(save_xlsx, index = False, sheet_name='202010') # xlsx 파일로 변환\n",
        "\n",
        "save_xlsx.save() #xlsx 파일로 저장"
      ],
      "execution_count": null,
      "outputs": []
    },
    {
      "cell_type": "code",
      "metadata": {
        "colab": {
          "base_uri": "https://localhost:8080/"
        },
        "id": "Az9NfdFL1TM3",
        "outputId": "2b6c99cf-e614-4284-d46b-afa4a688e06f"
      },
      "source": [
        "folder2 = folder[79:84]\n",
        "print(folder2)"
      ],
      "execution_count": null,
      "outputs": [
        {
          "output_type": "stream",
          "name": "stdout",
          "text": [
            "['포천_charge20201102.csv', '포천_charge20201109.csv', '포천_charge20201116.csv', '포천_charge20201123.csv', '포천_charge20201130.csv']\n"
          ]
        }
      ]
    },
    {
      "cell_type": "code",
      "metadata": {
        "colab": {
          "base_uri": "https://localhost:8080/"
        },
        "id": "cEyl_Qta1g7M",
        "outputId": "4c36dd21-2ac8-4062-d413-5e9ad55c3990"
      },
      "source": [
        "d = pd.DataFrame() \n",
        "for i in folder2:\n",
        "  print(i)\n",
        "  df = pd.read_csv(i, encoding='cp949', index_col=False)\n",
        "\n",
        "  d = pd.concat([d, df])\n",
        "\n",
        "print(d.head())\n",
        "print(d.tail())"
      ],
      "execution_count": null,
      "outputs": [
        {
          "output_type": "stream",
          "name": "stdout",
          "text": [
            "포천_charge20201102.csv\n",
            "포천_charge20201109.csv\n",
            "포천_charge20201116.csv\n",
            "포천_charge20201123.csv\n",
            "포천_charge20201130.csv\n",
            "      USER_ID SERVICE_NAME  ...  POLICY_CASH_CHARGE_CANCEL_AMOUNT CASH_NAME\n",
            "0  3032366166      포천사랑상품권  ...                                 0      NONE\n",
            "1  3021005883      포천사랑상품권  ...                                 0      NONE\n",
            "2  3015357192      포천사랑상품권  ...                                 0      NONE\n",
            "3  3015357192      포천사랑상품권  ...                                 0      NONE\n",
            "4  3015357192      포천사랑상품권  ...                                 0      NONE\n",
            "\n",
            "[5 rows x 18 columns]\n",
            "         USER_ID SERVICE_NAME  ...  POLICY_CASH_CHARGE_CANCEL_AMOUNT CASH_NAME\n",
            "4382  3017620534      포천사랑상품권  ...                                 0      NONE\n",
            "4383  3014013136      포천사랑상품권  ...                                 0      NONE\n",
            "4384  3019128758      포천사랑상품권  ...                                 0      NONE\n",
            "4385  3034589306      포천사랑상품권  ...                                 0      NONE\n",
            "4386  3018573351      포천사랑상품권  ...                                 0      NONE\n",
            "\n",
            "[5 rows x 18 columns]\n"
          ]
        }
      ]
    },
    {
      "cell_type": "code",
      "metadata": {
        "id": "odxCHGrm1nsW"
      },
      "source": [
        "d.to_csv('/content/drive/MyDrive/charge/charge_merge_11_2.csv', encoding='cp949', header=False, index=False)\n",
        "\n",
        "d.to_excel(save_xlsx, index = False, sheet_name='202011') # xlsx 파일로 변환\n",
        "\n",
        "save_xlsx.save() #xlsx 파일로 저장"
      ],
      "execution_count": null,
      "outputs": []
    },
    {
      "cell_type": "code",
      "metadata": {
        "colab": {
          "base_uri": "https://localhost:8080/"
        },
        "id": "J0WOKMcC1wFI",
        "outputId": "7ef146a9-c6ca-4166-99e4-956288de35b7"
      },
      "source": [
        "folder2 = folder[84:88]\n",
        "print(folder2)"
      ],
      "execution_count": null,
      "outputs": [
        {
          "output_type": "stream",
          "name": "stdout",
          "text": [
            "['포천_charge20201207.csv', '포천_charge20201214.csv', '포천_charge20201221.csv', '포천_charge20201228.csv']\n"
          ]
        }
      ]
    },
    {
      "cell_type": "code",
      "metadata": {
        "colab": {
          "base_uri": "https://localhost:8080/"
        },
        "id": "Z7E2oTzM1y48",
        "outputId": "6967cd31-7d5c-4b20-bb69-41bdfacb0ada"
      },
      "source": [
        "d = pd.DataFrame() \n",
        "for i in folder2:\n",
        "  print(i)\n",
        "  df = pd.read_csv(i, encoding='cp949', index_col=False)\n",
        "\n",
        "  d = pd.concat([d, df])\n",
        "\n",
        "print(d.head())\n",
        "print(d.tail())"
      ],
      "execution_count": null,
      "outputs": [
        {
          "output_type": "stream",
          "name": "stdout",
          "text": [
            "포천_charge20201207.csv\n",
            "포천_charge20201214.csv\n",
            "포천_charge20201221.csv\n",
            "포천_charge20201228.csv\n",
            "      USER_ID SERVICE_NAME  ...  POLICY_CASH_CHARGE_CANCEL_AMOUNT CASH_NAME\n",
            "0  3017080416      포천사랑상품권  ...                                 0      NONE\n",
            "1  3022135471      포천사랑상품권  ...                                 0      NONE\n",
            "2  3018326134      포천사랑상품권  ...                                 0      NONE\n",
            "3  3019272322      포천사랑상품권  ...                                 0      NONE\n",
            "4  3018437280      포천사랑상품권  ...                                 0      NONE\n",
            "\n",
            "[5 rows x 18 columns]\n",
            "         USER_ID SERVICE_NAME  ...  POLICY_CASH_CHARGE_CANCEL_AMOUNT CASH_NAME\n",
            "6961  3017656758      포천사랑상품권  ...                                 0      NONE\n",
            "6962  3002418176      포천사랑상품권  ...                                 0      NONE\n",
            "6963  3026676146      포천사랑상품권  ...                                 0      NONE\n",
            "6964  3015322126      포천사랑상품권  ...                                 0      NONE\n",
            "6965  3015586128      포천사랑상품권  ...                                 0      NONE\n",
            "\n",
            "[5 rows x 18 columns]\n"
          ]
        }
      ]
    },
    {
      "cell_type": "code",
      "metadata": {
        "id": "NgX52whq12bE"
      },
      "source": [
        "d.to_csv('/content/drive/MyDrive/charge/charge_merge_12_2.csv', encoding='cp949', header=False, index=False)\n",
        "\n",
        "d.to_excel(save_xlsx, index = False, sheet_name='202012') # xlsx 파일로 변환\n",
        "\n",
        "save_xlsx.save() #xlsx 파일로 저장"
      ],
      "execution_count": null,
      "outputs": []
    },
    {
      "cell_type": "code",
      "metadata": {
        "colab": {
          "base_uri": "https://localhost:8080/"
        },
        "id": "ODxJBws-2FE9",
        "outputId": "f21f64ca-573f-471a-94e9-eb194a159a04"
      },
      "source": [
        "folder2 = folder[88:92]\n",
        "print(folder2)"
      ],
      "execution_count": null,
      "outputs": [
        {
          "output_type": "stream",
          "name": "stdout",
          "text": [
            "['포천_charge20210104.csv', '포천_charge20210111.csv', '포천_charge20210118.csv', '포천_charge20210125.csv']\n"
          ]
        }
      ]
    },
    {
      "cell_type": "code",
      "metadata": {
        "colab": {
          "base_uri": "https://localhost:8080/"
        },
        "id": "FzlbZetr2ebO",
        "outputId": "0ef57c50-4207-49e1-f4ac-94795f6b362f"
      },
      "source": [
        "d = pd.DataFrame() \n",
        "for i in folder2:\n",
        "  print(i)\n",
        "  df = pd.read_csv(i, encoding='cp949', index_col=False)\n",
        "\n",
        "  d = pd.concat([d, df])\n",
        "\n",
        "print(d.head())\n",
        "print(d.tail())"
      ],
      "execution_count": null,
      "outputs": [
        {
          "output_type": "stream",
          "name": "stdout",
          "text": [
            "포천_charge20210104.csv\n",
            "포천_charge20210111.csv\n",
            "포천_charge20210118.csv\n",
            "포천_charge20210125.csv\n",
            "      USER_ID SERVICE_NAME  ...  POLICY_CASH_CHARGE_CANCEL_AMOUNT CASH_NAME\n",
            "0  3023879283      포천사랑상품권  ...                                 0      NONE\n",
            "1  3018753417      포천사랑상품권  ...                                 0      NONE\n",
            "2  3016851896      포천사랑상품권  ...                                 0      NONE\n",
            "3  3005665180      포천사랑상품권  ...                                 0      NONE\n",
            "4  3017310331      포천사랑상품권  ...                                 0      NONE\n",
            "\n",
            "[5 rows x 18 columns]\n",
            "         USER_ID SERVICE_NAME  ...  POLICY_CASH_CHARGE_CANCEL_AMOUNT CASH_NAME\n",
            "2643  3019227055      포천사랑상품권  ...                                 0      NONE\n",
            "2644  3017391982      포천사랑상품권  ...                                 0      NONE\n",
            "2645  3020115788      포천사랑상품권  ...                                 0      NONE\n",
            "2646  3018296494      포천사랑상품권  ...                                 0      NONE\n",
            "2647  3019285027      포천사랑상품권  ...                                 0      NONE\n",
            "\n",
            "[5 rows x 18 columns]\n"
          ]
        }
      ]
    },
    {
      "cell_type": "code",
      "metadata": {
        "id": "xDV7P3ND2jeB"
      },
      "source": [
        "d.to_csv('/content/drive/MyDrive/charge/charge_merge_1_3.csv', encoding='cp949', header=False, index=False)\n",
        "\n",
        "d.to_excel(save_xlsx, index = False, sheet_name='202101') # xlsx 파일로 변환\n",
        "\n",
        "save_xlsx.save() #xlsx 파일로 저장"
      ],
      "execution_count": null,
      "outputs": []
    },
    {
      "cell_type": "code",
      "metadata": {
        "colab": {
          "base_uri": "https://localhost:8080/"
        },
        "id": "pAO58D6b2lzw",
        "outputId": "e349de41-68f9-4b2e-e0f8-abdbe9e7d503"
      },
      "source": [
        "folder2 = folder[92:96]\n",
        "print(folder2)"
      ],
      "execution_count": null,
      "outputs": [
        {
          "output_type": "stream",
          "name": "stdout",
          "text": [
            "['포천_charge20210201.csv', '포천_charge20210208.csv', '포천_charge20210215.csv', '포천_charge20210222.csv']\n"
          ]
        }
      ]
    },
    {
      "cell_type": "code",
      "metadata": {
        "colab": {
          "base_uri": "https://localhost:8080/"
        },
        "id": "OWFUzibw2vef",
        "outputId": "cd4b70bf-ef40-4089-d7de-3a9eab8e025a"
      },
      "source": [
        "d = pd.DataFrame() \n",
        "for i in folder2:\n",
        "  print(i)\n",
        "  df = pd.read_csv(i, encoding='cp949', index_col=False)\n",
        "\n",
        "  d = pd.concat([d, df])\n",
        "\n",
        "print(d.head())\n",
        "print(d.tail())"
      ],
      "execution_count": null,
      "outputs": [
        {
          "output_type": "stream",
          "name": "stdout",
          "text": [
            "포천_charge20210201.csv\n",
            "포천_charge20210208.csv\n",
            "포천_charge20210215.csv\n",
            "포천_charge20210222.csv\n",
            "      USER_ID SERVICE_NAME  ...  POLICY_CASH_CHARGE_CANCEL_AMOUNT CASH_NAME\n",
            "0  3020305544      포천사랑상품권  ...                                 0      NONE\n",
            "1  3030174174      포천사랑상품권  ...                                 0      NONE\n",
            "2  3024089177      포천사랑상품권  ...                                 0      NONE\n",
            "3  3023382138      포천사랑상품권  ...                                 0      NONE\n",
            "4  3018036717      포천사랑상품권  ...                                 0      NONE\n",
            "\n",
            "[5 rows x 18 columns]\n",
            "         USER_ID SERVICE_NAME  ...  POLICY_CASH_CHARGE_CANCEL_AMOUNT       CASH_NAME\n",
            "9762  3033009157      포천사랑상품권  ...                                 0  포천시 청소년교통비지원수당\n",
            "9763  3017585048      포천사랑상품권  ...                                 0  포천시 청소년교통비지원수당\n",
            "9764  3016956996      포천사랑상품권  ...                                 0  포천시 청소년교통비지원수당\n",
            "9765  3017832112      포천사랑상품권  ...                                 0  포천시 청소년교통비지원수당\n",
            "9766  3020351208      포천사랑상품권  ...                                 0  포천시 청소년교통비지원수당\n",
            "\n",
            "[5 rows x 18 columns]\n"
          ]
        }
      ]
    },
    {
      "cell_type": "code",
      "metadata": {
        "id": "13LLG1Zd2yXl"
      },
      "source": [
        "d.to_csv('/content/drive/MyDrive/charge/charge_merge_2_3.csv', encoding='cp949', header=False, index=False)\n",
        "\n",
        "d.to_excel(save_xlsx, index = False, sheet_name='202102') # xlsx 파일로 변환\n",
        "\n",
        "save_xlsx.save() #xlsx 파일로 저장"
      ],
      "execution_count": null,
      "outputs": []
    },
    {
      "cell_type": "code",
      "metadata": {
        "colab": {
          "base_uri": "https://localhost:8080/"
        },
        "id": "Gp9flAZF28kK",
        "outputId": "83052f4c-a3eb-4308-c110-52e56765fad7"
      },
      "source": [
        "folder2 = folder[96:101]\n",
        "print(folder2)"
      ],
      "execution_count": null,
      "outputs": [
        {
          "output_type": "stream",
          "name": "stdout",
          "text": [
            "['포천_charge20210301.csv', '포천_charge20210308.csv', '포천_charge20210315.csv', '포천_charge20210322.csv', '포천_charge20210329.csv']\n"
          ]
        }
      ]
    },
    {
      "cell_type": "code",
      "metadata": {
        "colab": {
          "base_uri": "https://localhost:8080/"
        },
        "id": "_Zlmtf6M3PHy",
        "outputId": "aaa028d0-a54f-41fe-be7e-bafe1dc82bab"
      },
      "source": [
        "d = pd.DataFrame() \n",
        "for i in folder2:\n",
        "  print(i)\n",
        "  df = pd.read_csv(i, encoding='cp949', index_col=False)\n",
        "\n",
        "  d = pd.concat([d, df])\n",
        "\n",
        "print(d.head())\n",
        "print(d.tail())"
      ],
      "execution_count": null,
      "outputs": [
        {
          "output_type": "stream",
          "name": "stdout",
          "text": [
            "포천_charge20210301.csv\n",
            "포천_charge20210308.csv\n",
            "포천_charge20210315.csv\n",
            "포천_charge20210322.csv\n",
            "포천_charge20210329.csv\n",
            "      USER_ID SERVICE_NAME  ...  POLICY_CASH_CHARGE_CANCEL_AMOUNT CASH_NAME\n",
            "0  3024398132      포천사랑상품권  ...                                 0      NONE\n",
            "1  3011482144      포천사랑상품권  ...                                 0      NONE\n",
            "2  3032131238      포천사랑상품권  ...                                 0      NONE\n",
            "3  3017048794      포천사랑상품권  ...                                 0      NONE\n",
            "4  3018191533      포천사랑상품권  ...                                 0      NONE\n",
            "\n",
            "[5 rows x 18 columns]\n",
            "         USER_ID SERVICE_NAME  ...  POLICY_CASH_CHARGE_CANCEL_AMOUNT CASH_NAME\n",
            "7846  3013401108      포천사랑상품권  ...                                 0      NONE\n",
            "7847  3018857857  포천사랑상품권(통합)  ...                                 0      NONE\n",
            "7848  3018794612      포천사랑상품권  ...                                 0      NONE\n",
            "7849  3016938132      포천사랑상품권  ...                                 0      NONE\n",
            "7850  3002500789      포천사랑상품권  ...                                 0      NONE\n",
            "\n",
            "[5 rows x 18 columns]\n"
          ]
        }
      ]
    },
    {
      "cell_type": "code",
      "metadata": {
        "id": "_OkmtSZR3Vy5"
      },
      "source": [
        "d.to_csv('/content/drive/MyDrive/charge/charge_merge_3_3.csv', encoding='cp949', header=False, index=False)\n",
        "\n",
        "d.to_excel(save_xlsx, index = False, sheet_name='202103') # xlsx 파일로 변환\n",
        "\n",
        "save_xlsx.save() #xlsx 파일로 저장"
      ],
      "execution_count": null,
      "outputs": []
    },
    {
      "cell_type": "code",
      "metadata": {
        "colab": {
          "base_uri": "https://localhost:8080/"
        },
        "id": "6obAKzkT3dLU",
        "outputId": "b9e3d925-df09-43ab-e7f8-0b461a5f9abd"
      },
      "source": [
        "folder2 = folder[101:105]\n",
        "print(folder2)"
      ],
      "execution_count": null,
      "outputs": [
        {
          "output_type": "stream",
          "name": "stdout",
          "text": [
            "['포천_charge20210405.csv', '포천_charge20210412.csv', '포천_charge20210419.csv', '포천_charge20210426.csv']\n"
          ]
        }
      ]
    },
    {
      "cell_type": "code",
      "metadata": {
        "colab": {
          "base_uri": "https://localhost:8080/"
        },
        "id": "XcVv9rO73iJS",
        "outputId": "421a1af9-67fd-4894-8707-b46e98c8ae33"
      },
      "source": [
        "d = pd.DataFrame() \n",
        "for i in folder2:\n",
        "  print(i)\n",
        "  df = pd.read_csv(i, encoding='cp949', index_col=False)\n",
        "\n",
        "  d = pd.concat([d, df])\n",
        "\n",
        "print(d.head())\n",
        "print(d.tail())"
      ],
      "execution_count": null,
      "outputs": [
        {
          "output_type": "stream",
          "name": "stdout",
          "text": [
            "포천_charge20210405.csv\n",
            "포천_charge20210412.csv\n",
            "포천_charge20210419.csv\n",
            "포천_charge20210426.csv\n",
            "      USER_ID SERVICE_NAME  ...  POLICY_CASH_CHARGE_CANCEL_AMOUNT CASH_NAME\n",
            "0  3005687108      포천사랑상품권  ...                                 0      NONE\n",
            "1  3042194195  포천사랑상품권(통합)  ...                                 0      NONE\n",
            "2  3020795875      포천사랑상품권  ...                                 0      NONE\n",
            "3  3030106291      포천사랑상품권  ...                                 0      NONE\n",
            "4  3020385385      포천사랑상품권  ...                                 0      NONE\n",
            "\n",
            "[5 rows x 18 columns]\n",
            "              USER_ID  ...        CASH_NAME\n",
            "4558       3027733138  ...  경기도_2차재난기본소득(2)\n",
            "4559  999999999999999  ...  경기도_2차재난기본소득(2)\n",
            "4560  999999999999999  ...  경기도_2차재난기본소득(2)\n",
            "4561  999999999999999  ...  경기도_2차재난기본소득(2)\n",
            "4562  999999999999999  ...  경기도_2차재난기본소득(2)\n",
            "\n",
            "[5 rows x 18 columns]\n"
          ]
        }
      ]
    },
    {
      "cell_type": "code",
      "metadata": {
        "id": "XNBfBLtj3kFS"
      },
      "source": [
        "d.to_csv('/content/drive/MyDrive/charge/charge_merge_4_3.csv', encoding='cp949', header=False, index=False)\n",
        "\n",
        "d.to_excel(save_xlsx, index = False, sheet_name='202104') # xlsx 파일로 변환\n",
        "\n",
        "save_xlsx.save() #xlsx 파일로 저장"
      ],
      "execution_count": null,
      "outputs": []
    },
    {
      "cell_type": "code",
      "metadata": {
        "colab": {
          "base_uri": "https://localhost:8080/"
        },
        "id": "3bOrUeJ4326d",
        "outputId": "492f8e37-1c7a-4bab-e66c-d20d5e5b9eb8"
      },
      "source": [
        "folder2 = folder[106:111]\n",
        "print(folder2)"
      ],
      "execution_count": null,
      "outputs": [
        {
          "output_type": "stream",
          "name": "stdout",
          "text": [
            "['포천_charge20210503.csv', '포천_charge20210510.csv', '포천_charge20210517.csv', '포천_charge20210524.csv', '포천_charge20210531.csv']\n"
          ]
        }
      ]
    },
    {
      "cell_type": "code",
      "metadata": {
        "colab": {
          "base_uri": "https://localhost:8080/"
        },
        "id": "GF3A4vti39fN",
        "outputId": "80c78cfd-8f18-4f92-c537-06e987ceab76"
      },
      "source": [
        "d = pd.DataFrame() \n",
        "for i in folder2:\n",
        "  print(i)\n",
        "  df = pd.read_csv(i, encoding='cp949', index_col=False)\n",
        "\n",
        "  d = pd.concat([d, df])\n",
        "\n",
        "print(d.head())\n",
        "print(d.tail())"
      ],
      "execution_count": null,
      "outputs": [
        {
          "output_type": "stream",
          "name": "stdout",
          "text": [
            "포천_charge20210503.csv\n",
            "포천_charge20210510.csv\n",
            "포천_charge20210517.csv\n",
            "포천_charge20210524.csv\n",
            "포천_charge20210531.csv\n",
            "      USER_ID SERVICE_NAME  ...  POLICY_CASH_CHARGE_CANCEL_AMOUNT CASH_NAME\n",
            "0  3033489189      포천사랑상품권  ...                                 0      NONE\n",
            "1  3018951962      포천사랑상품권  ...                                 0      NONE\n",
            "2  3026314178      포천사랑상품권  ...                                 0      NONE\n",
            "3  3020167791  포천사랑상품권(통합)  ...                                 0      NONE\n",
            "4  3031592262      포천사랑상품권  ...                                 0      NONE\n",
            "\n",
            "[5 rows x 18 columns]\n",
            "         USER_ID SERVICE_NAME  ...  POLICY_CASH_CHARGE_CANCEL_AMOUNT       CASH_NAME\n",
            "6842  3049415359  포천사랑상품권(통합)  ...                                 0            NONE\n",
            "6843  3025857128      포천사랑상품권  ...                                 0            NONE\n",
            "6844  3018108625      포천사랑상품권  ...                                 0            NONE\n",
            "6845  3017695884  포천사랑상품권(통합)  ...                                 0   포천사랑상품권 산후조리비\n",
            "6846  3049326795  포천사랑상품권(통합)  ...                                 0  포천사랑상품권 청년기본소득\n",
            "\n",
            "[5 rows x 18 columns]\n"
          ]
        }
      ]
    },
    {
      "cell_type": "code",
      "metadata": {
        "id": "sPT00D504Bdy"
      },
      "source": [
        "d.to_csv('/content/drive/MyDrive/charge/charge_merge_5_3.csv', encoding='cp949', header=False, index=False)\n",
        "\n",
        "d.to_excel(save_xlsx, index = False, sheet_name='202105') # xlsx 파일로 변환\n",
        "\n",
        "save_xlsx.save() #xlsx 파일로 저장"
      ],
      "execution_count": null,
      "outputs": []
    },
    {
      "cell_type": "code",
      "metadata": {
        "colab": {
          "base_uri": "https://localhost:8080/"
        },
        "id": "kReUwMcC4cMm",
        "outputId": "af1156ba-5962-4845-97dc-61d8358aef8f"
      },
      "source": [
        "folder2 = folder[111:115]\n",
        "folder2.append(folder[105])\n",
        "print(folder2)"
      ],
      "execution_count": null,
      "outputs": [
        {
          "output_type": "stream",
          "name": "stdout",
          "text": [
            "['포천_charge20210607.csv', '포천_charge20210614.csv', '포천_charge20210621.csv', '포천_charge20210628.csv', '포천_charge_20210609_누락분.csv']\n"
          ]
        }
      ]
    },
    {
      "cell_type": "code",
      "metadata": {
        "colab": {
          "base_uri": "https://localhost:8080/"
        },
        "id": "CNEG0R7I4lfE",
        "outputId": "48ca2bfc-05ca-456c-f10a-2771d99fbf4a"
      },
      "source": [
        "d = pd.DataFrame() \n",
        "for i in folder2:\n",
        "  print(i)\n",
        "  df = pd.read_csv(i, encoding='cp949', index_col=False)\n",
        "\n",
        "  d = pd.concat([d, df])\n",
        "\n",
        "print(d.head())\n",
        "print(d.tail())"
      ],
      "execution_count": null,
      "outputs": [
        {
          "output_type": "stream",
          "name": "stdout",
          "text": [
            "포천_charge20210607.csv\n",
            "포천_charge20210614.csv\n",
            "포천_charge20210621.csv\n",
            "포천_charge20210628.csv\n",
            "포천_charge_20210609_누락분.csv\n",
            "      USER_ID SERVICE_NAME  ...  POLICY_CASH_CHARGE_CANCEL_AMOUNT CASH_NAME\n",
            "0  3016899180      포천사랑상품권  ...                                 0      NONE\n",
            "1  3017587782      포천사랑상품권  ...                                 0      NONE\n",
            "2  3016966306  포천사랑상품권(통합)  ...                                 0      NONE\n",
            "3  3049801448      포천사랑상품권  ...                                 0      NONE\n",
            "4  3016963087      포천사랑상품권  ...                                 0      NONE\n",
            "\n",
            "[5 rows x 18 columns]\n",
            "      USER_ID SERVICE_NAME  ...  POLICY_CASH_CHARGE_CANCEL_AMOUNT CASH_NAME\n",
            "2737        0  포천사랑상품권(통합)  ...                                 0      NONE\n",
            "2738        0  포천사랑상품권(통합)  ...                                 0      NONE\n",
            "2739        0  포천사랑상품권(통합)  ...                                 0      NONE\n",
            "2740        0      포천사랑상품권  ...                                 0      NONE\n",
            "2741        0      포천사랑상품권  ...                                 0      NONE\n",
            "\n",
            "[5 rows x 18 columns]\n"
          ]
        }
      ]
    },
    {
      "cell_type": "code",
      "metadata": {
        "id": "fgtHpNxZ43cU"
      },
      "source": [
        "d.to_csv('/content/drive/MyDrive/charge/charge_merge_6_3.csv', encoding='cp949', header=False, index=False)\n",
        "\n",
        "d.to_excel(save_xlsx, index = False, sheet_name='202106') # xlsx 파일로 변환\n",
        "\n",
        "save_xlsx.save() #xlsx 파일로 저장"
      ],
      "execution_count": null,
      "outputs": []
    },
    {
      "cell_type": "code",
      "metadata": {
        "colab": {
          "base_uri": "https://localhost:8080/"
        },
        "id": "2FahlIvV5INC",
        "outputId": "61cc47f2-3597-428d-9838-2b5110eda667"
      },
      "source": [
        "folder2 = folder[115:119]\n",
        "\n",
        "print(folder2)"
      ],
      "execution_count": null,
      "outputs": [
        {
          "output_type": "stream",
          "name": "stdout",
          "text": [
            "['포천_charge20210705.csv', '포천_charge20210712.csv', '포천_charge20210719.csv', '포천_charge20210726.csv']\n"
          ]
        }
      ]
    },
    {
      "cell_type": "code",
      "metadata": {
        "colab": {
          "base_uri": "https://localhost:8080/"
        },
        "id": "SBU3ViVQ5K32",
        "outputId": "bd0295d9-3dd0-4ab1-a70d-92c95d42d8a1"
      },
      "source": [
        "d = pd.DataFrame() \n",
        "for i in folder2:\n",
        "  print(i)\n",
        "  df = pd.read_csv(i, encoding='cp949', index_col=False)\n",
        "\n",
        "  d = pd.concat([d, df])\n",
        "\n",
        "print(d.head())\n",
        "print(d.tail())"
      ],
      "execution_count": null,
      "outputs": [
        {
          "output_type": "stream",
          "name": "stdout",
          "text": [
            "포천_charge20210705.csv\n",
            "포천_charge20210712.csv\n",
            "포천_charge20210719.csv\n",
            "포천_charge20210726.csv\n",
            "      USER_ID SERVICE_NAME  ...  POLICY_CASH_CHARGE_CANCEL_AMOUNT CASH_NAME\n",
            "0  3017101400  포천사랑상품권(통합)  ...                                 0      NONE\n",
            "1  3018419728      포천사랑상품권  ...                                 0      NONE\n",
            "2  3018661335      포천사랑상품권  ...                                 0      NONE\n",
            "3  3017012378      포천사랑상품권  ...                                 0      NONE\n",
            "4  3019609117      포천사랑상품권  ...                                 0      NONE\n",
            "\n",
            "[5 rows x 18 columns]\n",
            "         USER_ID SERVICE_NAME  ...  POLICY_CASH_CHARGE_CANCEL_AMOUNT CASH_NAME\n",
            "5661  3008618126      포천사랑상품권  ...                                 0      NONE\n",
            "5662  3029032163      포천사랑상품권  ...                                 0      NONE\n",
            "5663  3015482239      포천사랑상품권  ...                                 0      NONE\n",
            "5664  3018059306      포천사랑상품권  ...                                 0      NONE\n",
            "5665  3011988148      포천사랑상품권  ...                                 0      NONE\n",
            "\n",
            "[5 rows x 18 columns]\n"
          ]
        }
      ]
    },
    {
      "cell_type": "code",
      "metadata": {
        "id": "j55riMil5OFW"
      },
      "source": [
        "d.to_csv('/content/drive/MyDrive/charge/charge_merge_7_3.csv', encoding='cp949', header=False, index=False)\n",
        "\n",
        "d.to_excel(save_xlsx, index = False, sheet_name='202107') # xlsx 파일로 변환\n",
        "\n",
        "save_xlsx.save() #xlsx 파일로 저장"
      ],
      "execution_count": null,
      "outputs": []
    },
    {
      "cell_type": "code",
      "metadata": {
        "id": "gpcwQJ9D6d0b"
      },
      "source": [
        ""
      ],
      "execution_count": null,
      "outputs": []
    }
  ]
}