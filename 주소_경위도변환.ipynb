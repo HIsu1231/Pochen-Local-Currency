{
  "nbformat": 4,
  "nbformat_minor": 0,
  "metadata": {
    "colab": {
      "name": "주소_경위도변환.ipynb",
      "provenance": [],
      "collapsed_sections": [],
      "mount_file_id": "1OT5r4SpMQ9QaxiSZt1tpxS8uwVDpBBTD",
      "authorship_tag": "ABX9TyPahDiwSpWTCilQyDZW2xzw",
      "include_colab_link": true
    },
    "kernelspec": {
      "name": "python3",
      "display_name": "Python 3"
    },
    "language_info": {
      "name": "python"
    }
  },
  "cells": [
    {
      "cell_type": "markdown",
      "metadata": {
        "id": "view-in-github",
        "colab_type": "text"
      },
      "source": [
        "<a href=\"https://colab.research.google.com/github/HIsu1231/Pochen_-Local-Currency/blob/main/%EC%A3%BC%EC%86%8C_%EA%B2%BD%EC%9C%84%EB%8F%84%EB%B3%80%ED%99%98.ipynb\" target=\"_parent\"><img src=\"https://colab.research.google.com/assets/colab-badge.svg\" alt=\"Open In Colab\"/></a>"
      ]
    },
    {
      "cell_type": "code",
      "execution_count": null,
      "metadata": {
        "id": "qi9a2xMGzLN8"
      },
      "outputs": [],
      "source": [
        "import pandas as pd"
      ]
    },
    {
      "cell_type": "code",
      "source": [
        "data = pd.read_excel('/content/drive/MyDrive/경기지역화폐_가맹점리스트_1007_포천 .xlsx')\n",
        "print(data.head())"
      ],
      "metadata": {
        "colab": {
          "base_uri": "https://localhost:8080/"
        },
        "id": "zwatHeozzeZn",
        "outputId": "519b4ac8-b308-40ca-b5cc-325e506f876c"
      },
      "execution_count": null,
      "outputs": [
        {
          "output_type": "stream",
          "name": "stdout",
          "text": [
            "  지자체                     가맹점명       사업자번호  ... 등록사이트 등록일자  등록여부 한번이라도 결제 일어난 가맹점 여부\n",
            "0  포천                       로또  6516300119  ...        NaT     X                   O\n",
            "1  포천    글로벌모터스(GLOBAL-MOTORS)  3650200478  ...        NaT     X                   X\n",
            "2  포천                      강나루  8754000147  ...        NaT     X                   O\n",
            "3  포천  Kaylie's coffee(케일리 커피)  2145000109  ... 2020-10-07     O                   O\n",
            "4  포천            용광사.일동열쇠.이동열쇠  7571000371  ...        NaT     X                   O\n",
            "\n",
            "[5 rows x 14 columns]\n"
          ]
        }
      ]
    },
    {
      "cell_type": "code",
      "source": [
        "address = data['주소']\n",
        "print(address.head())"
      ],
      "metadata": {
        "colab": {
          "base_uri": "https://localhost:8080/"
        },
        "id": "qwVsIZ830IOH",
        "outputId": "f0a60c55-6524-4fda-b530-5905b9b52bba"
      },
      "execution_count": null,
      "outputs": [
        {
          "output_type": "stream",
          "name": "stdout",
          "text": [
            "0    경기 포천시 소흘읍 죽엽산로196번길 4 ,1층\n",
            "1         경기 포천시 소흘읍 호국로 15-18 \n",
            "2         경기 포천시 이동면 포화로 51-10 \n",
            "3     경기 포천시 신읍길 35-1 ,1층 (신읍동)\n",
            "4       경기 포천시 일동면 기산리 90-177번지\n",
            "Name: 주소, dtype: object\n"
          ]
        }
      ]
    },
    {
      "cell_type": "code",
      "source": [
        "for i in range(len(address)):\n",
        "  a = address[i].split(' ')\n",
        "  address[i] = \" \".join(a[0:4])\n",
        "print(address)"
      ],
      "metadata": {
        "colab": {
          "base_uri": "https://localhost:8080/"
        },
        "id": "F1KTFUGz14wJ",
        "outputId": "4d661162-df2b-453e-de19-c94b0444f02b"
      },
      "execution_count": null,
      "outputs": [
        {
          "output_type": "stream",
          "name": "stderr",
          "text": [
            "/usr/local/lib/python3.7/dist-packages/ipykernel_launcher.py:3: SettingWithCopyWarning: \n",
            "A value is trying to be set on a copy of a slice from a DataFrame\n",
            "\n",
            "See the caveats in the documentation: https://pandas.pydata.org/pandas-docs/stable/user_guide/indexing.html#returning-a-view-versus-a-copy\n",
            "  This is separate from the ipykernel package so we can avoid doing imports until\n"
          ]
        },
        {
          "output_type": "stream",
          "name": "stdout",
          "text": [
            "0        경기 포천시 소흘읍 죽엽산로196번길\n",
            "1              경기 포천시 소흘읍 호국로\n",
            "2              경기 포천시 이동면 포화로\n",
            "3             경기 포천시 신읍길 35-1\n",
            "4              경기 포천시 일동면 기산리\n",
            "                 ...         \n",
            "10536     경기 포천시 소흘읍 솔모루로78번길\n",
            "10537       경기 포천시 소흘읍 광릉수목원로\n",
            "10538      경기 포천시 영북면 운천로23번길\n",
            "10539     경기 포천시 신북면 중앙로207번길\n",
            "10540      경기 포천시 소흘읍 솔모루로3번길\n",
            "Name: 주소, Length: 10541, dtype: object\n"
          ]
        }
      ]
    },
    {
      "cell_type": "code",
      "source": [
        "!pip install geopy"
      ],
      "metadata": {
        "colab": {
          "base_uri": "https://localhost:8080/"
        },
        "id": "lvqs4MU_2BPv",
        "outputId": "098bd3c6-61ce-4c7d-d0df-89bae8942643"
      },
      "execution_count": null,
      "outputs": [
        {
          "output_type": "stream",
          "name": "stdout",
          "text": [
            "Requirement already satisfied: geopy in /usr/local/lib/python3.7/dist-packages (1.17.0)\n",
            "Requirement already satisfied: geographiclib<2,>=1.49 in /usr/local/lib/python3.7/dist-packages (from geopy) (1.52)\n"
          ]
        }
      ]
    },
    {
      "cell_type": "code",
      "source": [
        "#도로명 주소 위도 경도 값으로 바꿔주기\n",
        "from geopy.geocoders import Nominatim\n",
        "geo_local = Nominatim(user_agent='South Korea')\n",
        "\n",
        "l = []\n",
        "def geocoding(address):\n",
        "    geo = geo_local.geocode(address)\n",
        "    x_y = (geo.latitude, geo.longitude)\n",
        "    return x_y\n",
        "    "
      ],
      "metadata": {
        "id": "AnYqnRc72LXP"
      },
      "execution_count": null,
      "outputs": []
    },
    {
      "cell_type": "code",
      "source": [
        "geocoding('경기 포천시 일동면 화동로 1043')"
      ],
      "metadata": {
        "id": "qH_2KzJG5Zf7"
      },
      "execution_count": null,
      "outputs": []
    },
    {
      "cell_type": "code",
      "source": [
        "geocoding('경기 포천시 이동면 도평리 61-3')"
      ],
      "metadata": {
        "colab": {
          "base_uri": "https://localhost:8080/",
          "height": 299
        },
        "id": "50H062qE7bgt",
        "outputId": "15c3b4de-dfb6-4563-fc11-829dfb89c48d"
      },
      "execution_count": null,
      "outputs": [
        {
          "output_type": "error",
          "ename": "AttributeError",
          "evalue": "ignored",
          "traceback": [
            "\u001b[0;31m---------------------------------------------------------------------------\u001b[0m",
            "\u001b[0;31mAttributeError\u001b[0m                            Traceback (most recent call last)",
            "\u001b[0;32m<ipython-input-86-d3b1127eb7d5>\u001b[0m in \u001b[0;36m<module>\u001b[0;34m()\u001b[0m\n\u001b[0;32m----> 1\u001b[0;31m \u001b[0mgeocoding\u001b[0m\u001b[0;34m(\u001b[0m\u001b[0;34m'경기 포천시 이동면 도평리 61-3'\u001b[0m\u001b[0;34m)\u001b[0m\u001b[0;34m\u001b[0m\u001b[0;34m\u001b[0m\u001b[0m\n\u001b[0m",
            "\u001b[0;32m<ipython-input-11-d0df9715b894>\u001b[0m in \u001b[0;36mgeocoding\u001b[0;34m(address)\u001b[0m\n\u001b[1;32m      6\u001b[0m \u001b[0;32mdef\u001b[0m \u001b[0mgeocoding\u001b[0m\u001b[0;34m(\u001b[0m\u001b[0maddress\u001b[0m\u001b[0;34m)\u001b[0m\u001b[0;34m:\u001b[0m\u001b[0;34m\u001b[0m\u001b[0;34m\u001b[0m\u001b[0m\n\u001b[1;32m      7\u001b[0m     \u001b[0mgeo\u001b[0m \u001b[0;34m=\u001b[0m \u001b[0mgeo_local\u001b[0m\u001b[0;34m.\u001b[0m\u001b[0mgeocode\u001b[0m\u001b[0;34m(\u001b[0m\u001b[0maddress\u001b[0m\u001b[0;34m)\u001b[0m\u001b[0;34m\u001b[0m\u001b[0;34m\u001b[0m\u001b[0m\n\u001b[0;32m----> 8\u001b[0;31m     \u001b[0mx_y\u001b[0m \u001b[0;34m=\u001b[0m \u001b[0;34m(\u001b[0m\u001b[0mgeo\u001b[0m\u001b[0;34m.\u001b[0m\u001b[0mlatitude\u001b[0m\u001b[0;34m,\u001b[0m \u001b[0mgeo\u001b[0m\u001b[0;34m.\u001b[0m\u001b[0mlongitude\u001b[0m\u001b[0;34m)\u001b[0m\u001b[0;34m\u001b[0m\u001b[0;34m\u001b[0m\u001b[0m\n\u001b[0m\u001b[1;32m      9\u001b[0m     \u001b[0;32mreturn\u001b[0m \u001b[0mx_y\u001b[0m\u001b[0;34m\u001b[0m\u001b[0;34m\u001b[0m\u001b[0m\n\u001b[1;32m     10\u001b[0m \u001b[0;34m\u001b[0m\u001b[0m\n",
            "\u001b[0;31mAttributeError\u001b[0m: 'NoneType' object has no attribute 'latitude'"
          ]
        }
      ]
    },
    {
      "cell_type": "code",
      "source": [
        "latitude = [0 for i in range(10541)]\n",
        "longitude =[0 for i in range(10541)]\n",
        "l = []\n",
        "\n",
        "for i in range(len(address)):\n",
        "  try:\n",
        "    latitude[i]= geocoding(address[i])[0]\n",
        "    longitude[i] = geocoding(address[i])[1]\n",
        "\n",
        "  except:\n",
        "    l.append(address[i])"
      ],
      "metadata": {
        "id": "83izfyur2hXq"
      },
      "execution_count": null,
      "outputs": []
    },
    {
      "cell_type": "code",
      "source": [
        "len(l)"
      ],
      "metadata": {
        "colab": {
          "base_uri": "https://localhost:8080/"
        },
        "id": "GzUD47_47g0T",
        "outputId": "814da87f-4509-4735-ad3c-026036d1b72d"
      },
      "execution_count": null,
      "outputs": [
        {
          "output_type": "execute_result",
          "data": {
            "text/plain": [
              "5039"
            ]
          },
          "metadata": {},
          "execution_count": 24
        }
      ]
    },
    {
      "cell_type": "code",
      "source": [
        "df = pd.DataFrame({'latitude':latitude, 'longitude':longitude})"
      ],
      "metadata": {
        "id": "d63LqyvU_zoN"
      },
      "execution_count": null,
      "outputs": []
    },
    {
      "cell_type": "code",
      "source": [
        "df"
      ],
      "metadata": {
        "colab": {
          "base_uri": "https://localhost:8080/",
          "height": 423
        },
        "id": "dQ6ITTi8_5vF",
        "outputId": "4ad55e38-727e-4b02-a9dd-dfb58355abe5"
      },
      "execution_count": null,
      "outputs": [
        {
          "output_type": "execute_result",
          "data": {
            "text/html": [
              "<div>\n",
              "<style scoped>\n",
              "    .dataframe tbody tr th:only-of-type {\n",
              "        vertical-align: middle;\n",
              "    }\n",
              "\n",
              "    .dataframe tbody tr th {\n",
              "        vertical-align: top;\n",
              "    }\n",
              "\n",
              "    .dataframe thead th {\n",
              "        text-align: right;\n",
              "    }\n",
              "</style>\n",
              "<table border=\"1\" class=\"dataframe\">\n",
              "  <thead>\n",
              "    <tr style=\"text-align: right;\">\n",
              "      <th></th>\n",
              "      <th>latitude</th>\n",
              "      <th>longitude</th>\n",
              "    </tr>\n",
              "  </thead>\n",
              "  <tbody>\n",
              "    <tr>\n",
              "      <th>0</th>\n",
              "      <td>0.000000</td>\n",
              "      <td>0.000000</td>\n",
              "    </tr>\n",
              "    <tr>\n",
              "      <th>1</th>\n",
              "      <td>37.815111</td>\n",
              "      <td>127.135696</td>\n",
              "    </tr>\n",
              "    <tr>\n",
              "      <th>2</th>\n",
              "      <td>0.000000</td>\n",
              "      <td>0.000000</td>\n",
              "    </tr>\n",
              "    <tr>\n",
              "      <th>3</th>\n",
              "      <td>0.000000</td>\n",
              "      <td>0.000000</td>\n",
              "    </tr>\n",
              "    <tr>\n",
              "      <th>4</th>\n",
              "      <td>0.000000</td>\n",
              "      <td>0.000000</td>\n",
              "    </tr>\n",
              "    <tr>\n",
              "      <th>...</th>\n",
              "      <td>...</td>\n",
              "      <td>...</td>\n",
              "    </tr>\n",
              "    <tr>\n",
              "      <th>10536</th>\n",
              "      <td>37.827872</td>\n",
              "      <td>127.147733</td>\n",
              "    </tr>\n",
              "    <tr>\n",
              "      <th>10537</th>\n",
              "      <td>37.778999</td>\n",
              "      <td>127.117202</td>\n",
              "    </tr>\n",
              "    <tr>\n",
              "      <th>10538</th>\n",
              "      <td>0.000000</td>\n",
              "      <td>0.000000</td>\n",
              "    </tr>\n",
              "    <tr>\n",
              "      <th>10539</th>\n",
              "      <td>0.000000</td>\n",
              "      <td>0.000000</td>\n",
              "    </tr>\n",
              "    <tr>\n",
              "      <th>10540</th>\n",
              "      <td>37.824420</td>\n",
              "      <td>127.137970</td>\n",
              "    </tr>\n",
              "  </tbody>\n",
              "</table>\n",
              "<p>10541 rows × 2 columns</p>\n",
              "</div>"
            ],
            "text/plain": [
              "        latitude   longitude\n",
              "0       0.000000    0.000000\n",
              "1      37.815111  127.135696\n",
              "2       0.000000    0.000000\n",
              "3       0.000000    0.000000\n",
              "4       0.000000    0.000000\n",
              "...          ...         ...\n",
              "10536  37.827872  127.147733\n",
              "10537  37.778999  127.117202\n",
              "10538   0.000000    0.000000\n",
              "10539   0.000000    0.000000\n",
              "10540  37.824420  127.137970\n",
              "\n",
              "[10541 rows x 2 columns]"
            ]
          },
          "metadata": {},
          "execution_count": 32
        }
      ]
    },
    {
      "cell_type": "code",
      "source": [
        "df2 = pd.DataFrame({'누락주소':l})"
      ],
      "metadata": {
        "id": "3eX8uSEO_7nn"
      },
      "execution_count": null,
      "outputs": []
    },
    {
      "cell_type": "code",
      "source": [
        "df.to_excel('위경도.xlsx')"
      ],
      "metadata": {
        "id": "1qDt6kZaBJQW"
      },
      "execution_count": null,
      "outputs": []
    },
    {
      "cell_type": "code",
      "source": [
        "df2.to_excel('누락주소.xlsx')"
      ],
      "metadata": {
        "id": "eqQFWSrpBXDe"
      },
      "execution_count": null,
      "outputs": []
    },
    {
      "cell_type": "code",
      "source": [
        "(import pandas as pd\n",
        "# csv파일 불러오기\n",
        "data = pd.read_excel('/content/drive/MyDrive/경기지역화폐_가맹점리스트_1007_포천 .xlsx')\n",
        "\n",
        "# 데이터프레임 주소값 추출\n",
        "address= data['주소']\n",
        "print(address.head())\n",
        "\n",
        "\n",
        "# 주소 데이터 깔끔하게 다듬기\n",
        "for i in range(len(address)):\n",
        "    a = address[i].split(' ')\n",
        "    address[i] = \" \".join(a[0:4])\n",
        "print(address)\n",
        "\n",
        "####### 도로명주소 위도 경도 값으로 바꿔주기 ########\n",
        "from geopy.geocoders import Nominatim\n",
        "geo_local = Nominatim(user_agent='South Korea')\n",
        "# 위도, 경도 반환하는 함수\n",
        "def geocoding(address):\n",
        "    geo = geo_local.geocode(address)\n",
        "    x_y = (geo.latitude, geo.longitude)\n",
        "    return x_y\n",
        "\n",
        "\n",
        "\n",
        "\n",
        "#####주소를 위,경도 값으로 변환하기 #####\n",
        "latitude = []\n",
        "longitude =[]\n",
        "\n",
        "for i in address:\n",
        "    latitude1.append(geocoding(i)[0])\n",
        "    longitude1.append(geocoding(i)[1])\n",
        "\n",
        "#####Dataframe만들기######\n",
        "#address_df = pd.DataFrame({'카페이름': csv['사업장명'],'상세주소':csv['소재지도로명주소'],'주소':address,'위도':latitude,'경도':longitude})\n",
        "\n",
        "#df저장\n",
        "#address_df.to_csv('jungu_incheon_coffeeshop.csv')\n"
      ],
      "metadata": {
        "colab": {
          "base_uri": "https://localhost:8080/",
          "height": 810
        },
        "id": "boK9LoRh2wDp",
        "outputId": "b03266a3-f1b5-4a93-949d-80ee26a74f86"
      },
      "execution_count": null,
      "outputs": [
        {
          "output_type": "stream",
          "name": "stdout",
          "text": [
            "0    경기 포천시 소흘읍 죽엽산로196번길 4 ,1층\n",
            "1         경기 포천시 소흘읍 호국로 15-18 \n",
            "2         경기 포천시 이동면 포화로 51-10 \n",
            "3     경기 포천시 신읍길 35-1 ,1층 (신읍동)\n",
            "4       경기 포천시 일동면 기산리 90-177번지\n",
            "Name: 주소, dtype: object\n"
          ]
        },
        {
          "output_type": "stream",
          "name": "stderr",
          "text": [
            "/usr/local/lib/python3.7/dist-packages/ipykernel_launcher.py:13: SettingWithCopyWarning: \n",
            "A value is trying to be set on a copy of a slice from a DataFrame\n",
            "\n",
            "See the caveats in the documentation: https://pandas.pydata.org/pandas-docs/stable/user_guide/indexing.html#returning-a-view-versus-a-copy\n",
            "  del sys.path[0]\n"
          ]
        },
        {
          "output_type": "stream",
          "name": "stdout",
          "text": [
            "0        경기 포천시 소흘읍 죽엽산로196번길\n",
            "1              경기 포천시 소흘읍 호국로\n",
            "2              경기 포천시 이동면 포화로\n",
            "3             경기 포천시 신읍길 35-1\n",
            "4              경기 포천시 일동면 기산리\n",
            "                 ...         \n",
            "10536     경기 포천시 소흘읍 솔모루로78번길\n",
            "10537       경기 포천시 소흘읍 광릉수목원로\n",
            "10538      경기 포천시 영북면 운천로23번길\n",
            "10539     경기 포천시 신북면 중앙로207번길\n",
            "10540      경기 포천시 소흘읍 솔모루로3번길\n",
            "Name: 주소, Length: 10541, dtype: object\n"
          ]
        },
        {
          "output_type": "error",
          "ename": "AttributeError",
          "evalue": "ignored",
          "traceback": [
            "\u001b[0;31m---------------------------------------------------------------------------\u001b[0m",
            "\u001b[0;31mAttributeError\u001b[0m                            Traceback (most recent call last)",
            "\u001b[0;32m<ipython-input-32-14e4cc473a52>\u001b[0m in \u001b[0;36m<module>\u001b[0;34m()\u001b[0m\n\u001b[1;32m     31\u001b[0m \u001b[0;34m\u001b[0m\u001b[0m\n\u001b[1;32m     32\u001b[0m \u001b[0;32mfor\u001b[0m \u001b[0mi\u001b[0m \u001b[0;32min\u001b[0m \u001b[0maddress\u001b[0m\u001b[0;34m:\u001b[0m\u001b[0;34m\u001b[0m\u001b[0;34m\u001b[0m\u001b[0m\n\u001b[0;32m---> 33\u001b[0;31m     \u001b[0mlatitude1\u001b[0m\u001b[0;34m.\u001b[0m\u001b[0mappend\u001b[0m\u001b[0;34m(\u001b[0m\u001b[0mgeocoding\u001b[0m\u001b[0;34m(\u001b[0m\u001b[0mi\u001b[0m\u001b[0;34m)\u001b[0m\u001b[0;34m[\u001b[0m\u001b[0;36m0\u001b[0m\u001b[0;34m]\u001b[0m\u001b[0;34m)\u001b[0m\u001b[0;34m\u001b[0m\u001b[0;34m\u001b[0m\u001b[0m\n\u001b[0m\u001b[1;32m     34\u001b[0m     \u001b[0mlongitude1\u001b[0m\u001b[0;34m.\u001b[0m\u001b[0mappend\u001b[0m\u001b[0;34m(\u001b[0m\u001b[0mgeocoding\u001b[0m\u001b[0;34m(\u001b[0m\u001b[0mi\u001b[0m\u001b[0;34m)\u001b[0m\u001b[0;34m[\u001b[0m\u001b[0;36m1\u001b[0m\u001b[0;34m]\u001b[0m\u001b[0;34m)\u001b[0m\u001b[0;34m\u001b[0m\u001b[0;34m\u001b[0m\u001b[0m\n\u001b[1;32m     35\u001b[0m \u001b[0;34m\u001b[0m\u001b[0m\n",
            "\u001b[0;32m<ipython-input-32-14e4cc473a52>\u001b[0m in \u001b[0;36mgeocoding\u001b[0;34m(address)\u001b[0m\n\u001b[1;32m     20\u001b[0m \u001b[0;32mdef\u001b[0m \u001b[0mgeocoding\u001b[0m\u001b[0;34m(\u001b[0m\u001b[0maddress\u001b[0m\u001b[0;34m)\u001b[0m\u001b[0;34m:\u001b[0m\u001b[0;34m\u001b[0m\u001b[0;34m\u001b[0m\u001b[0m\n\u001b[1;32m     21\u001b[0m     \u001b[0mgeo\u001b[0m \u001b[0;34m=\u001b[0m \u001b[0mgeo_local\u001b[0m\u001b[0;34m.\u001b[0m\u001b[0mgeocode\u001b[0m\u001b[0;34m(\u001b[0m\u001b[0maddress\u001b[0m\u001b[0;34m)\u001b[0m\u001b[0;34m\u001b[0m\u001b[0;34m\u001b[0m\u001b[0m\n\u001b[0;32m---> 22\u001b[0;31m     \u001b[0mx_y\u001b[0m \u001b[0;34m=\u001b[0m \u001b[0;34m(\u001b[0m\u001b[0mgeo\u001b[0m\u001b[0;34m.\u001b[0m\u001b[0mlatitude\u001b[0m\u001b[0;34m,\u001b[0m \u001b[0mgeo\u001b[0m\u001b[0;34m.\u001b[0m\u001b[0mlongitude\u001b[0m\u001b[0;34m)\u001b[0m\u001b[0;34m\u001b[0m\u001b[0;34m\u001b[0m\u001b[0m\n\u001b[0m\u001b[1;32m     23\u001b[0m     \u001b[0;32mreturn\u001b[0m \u001b[0mx_y\u001b[0m\u001b[0;34m\u001b[0m\u001b[0;34m\u001b[0m\u001b[0m\n\u001b[1;32m     24\u001b[0m \u001b[0;34m\u001b[0m\u001b[0m\n",
            "\u001b[0;31mAttributeError\u001b[0m: 'NoneType' object has no attribute 'latitude'"
          ]
        }
      ]
    },
    {
      "cell_type": "code",
      "source": [
        ""
      ],
      "metadata": {
        "id": "_YDDnpvr3Z8c"
      },
      "execution_count": null,
      "outputs": []
    }
  ]
}